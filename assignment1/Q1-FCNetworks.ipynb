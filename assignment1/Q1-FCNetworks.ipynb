{
  "cells": [
    {
      "cell_type": "code",
      "execution_count": 1,
      "metadata": {
        "id": "HRfXns1vurmF",
        "colab": {
          "base_uri": "https://localhost:8080/"
        },
        "outputId": "a8fcf0cf-7497-4682-9ed1-8e6c387045ad"
      },
      "outputs": [
        {
          "output_type": "stream",
          "name": "stdout",
          "text": [
            "Mounted at /content/drive\n",
            "/content\n"
          ]
        }
      ],
      "source": [
        "# this mounts your Google Drive to the Colab VM.\n",
        "from google.colab import drive\n",
        "drive.mount('/content/drive', force_remount=True)\n",
        "\n",
        "# enter the foldername in your Drive where you have saved the unzipped\n",
        "# assignment folder, e.g. 'ece697ls/assignments/assignment3/'\n",
        "FOLDERNAME = 'ECE_562/Lab_1' # Corrected folder name\n",
        "assert FOLDERNAME is not None, \"[!] Enter the foldername.\"\n",
        "\n",
        "# now that we've mounted your Drive, this ensures that\n",
        "# the Python interpreter of the Colab VM can load\n",
        "# python files from within it.\n",
        "import sys\n",
        "sys.path.append('/content/drive/My Drive/{}'.format(FOLDERNAME))\n",
        "\n",
        "%cd /content"
      ]
    },
    {
      "cell_type": "markdown",
      "metadata": {
        "id": "PqOSfs6furmO",
        "tags": [
          "pdf-ignore"
        ]
      },
      "source": [
        "# Fully-Connected Neural Nets\n",
        "In this exercise we will implement fully-connected networks using a modular approach. Ideally we want to build networks using a more modular design so that we can implement different layer types in isolation and then snap them together into models with different architectures. For each layer we will implement a `forward` and a `backward` function. The `forward` function will receive inputs, weights, and other parameters and will return both an output and a `cache` object storing data needed for the backward pass, like this:\n",
        "\n",
        "```python\n",
        "def layer_forward(x, w):\n",
        "  \"\"\" Receive inputs x and weights w \"\"\"\n",
        "  # Do some computations ...\n",
        "  z = x.dot(w)\n",
        "  # Do some more computations ...\n",
        "  out = z\n",
        "   \n",
        "  cache = (x, w, z, out) # Values we need to compute gradients\n",
        "   \n",
        "  return out, cache\n",
        "```\n",
        "\n",
        "The backward pass will receive upstream derivatives and the `cache` object, and will return gradients with respect to the inputs and weights, like this:\n",
        "\n",
        "```python\n",
        "def layer_backward(dout, cache):\n",
        "  \"\"\"\n",
        "  Receive dout (derivative of loss with respect to outputs) and cache,\n",
        "  and compute derivative with respect to inputs.\n",
        "  \"\"\"\n",
        "  # Unpack cache values\n",
        "  x, w, z, out = cache\n",
        "  \n",
        "  # Use values in cache to compute derivatives\n",
        "  dx = dout.dot(w.T)\n",
        "  dw = x.T.dot(dout)\n",
        "  \n",
        "  return dx, dw\n",
        "```\n",
        "\n",
        "After implementing a bunch of layers this way, we will be able to easily combine them to build classifiers with different architectures.\n",
        "\n",
        "In addition to implementing fully-connected networks of arbitrary depth, we will also explore different update rules for optimization, and introduce Dropout as a regularizer and Batch/Layer Normalization as a tool to more efficiently optimize deep networks.\n",
        "  "
      ]
    },
    {
      "cell_type": "code",
      "execution_count": null,
      "metadata": {
        "id": "GFhm-2aqurmP",
        "tags": [
          "pdf-ignore"
        ],
        "outputId": "10970c55-9fe9-4a82-cb03-767c0fb54e1b",
        "colab": {
          "base_uri": "https://localhost:8080/"
        }
      },
      "outputs": [
        {
          "output_type": "stream",
          "name": "stdout",
          "text": [
            "=========== You can safely ignore the message below if you are NOT working on ConvolutionalNetworks.ipynb ===========\n",
            "\tYou will need to compile a Cython extension for a portion of this assignment.\n",
            "\tThe instructions to do this will be given in a section of the notebook below.\n",
            "\tThere will be an option for Colab users and another for Jupyter (local) users.\n"
          ]
        }
      ],
      "source": [
        "# As usual, a bit of setup\n",
        "from __future__ import print_function\n",
        "import time\n",
        "import numpy as np\n",
        "import matplotlib.pyplot as plt\n",
        "from ece662.classifiers.fc_net import *\n",
        "from ece662.data_utils import get_CINIC10_data\n",
        "from ece662.gradient_check import eval_numerical_gradient, eval_numerical_gradient_array\n",
        "from ece662.solver import Solver\n",
        "\n",
        "%matplotlib inline\n",
        "plt.rcParams['figure.figsize'] = (10.0, 8.0) # set default size of plots\n",
        "plt.rcParams['image.interpolation'] = 'nearest'\n",
        "plt.rcParams['image.cmap'] = 'gray'\n",
        "\n",
        "# for auto-reloading external modules\n",
        "# see http://stackoverflow.com/questions/1907993/autoreload-of-modules-in-ipython\n",
        "\n",
        "\n",
        "def rel_error(x, y):\n",
        "  \"\"\" returns relative error \"\"\"\n",
        "  return np.max(np.abs(x - y) / (np.maximum(1e-8, np.abs(x) + np.abs(y))))"
      ]
    },
    {
      "cell_type": "code",
      "execution_count": null,
      "metadata": {
        "id": "8vtJKAmKurmT",
        "tags": [
          "pdf-ignore"
        ],
        "colab": {
          "base_uri": "https://localhost:8080/"
        },
        "outputId": "14af3429-0968-4501-b8df-5b9202ae80bc"
      },
      "outputs": [
        {
          "output_type": "stream",
          "name": "stdout",
          "text": [
            "('X_train: ', (53973, 3, 32, 32))\n",
            "('y_train: ', (53973,))\n",
            "('X_val: ', (10195, 3, 32, 32))\n",
            "('y_val: ', (10195,))\n",
            "('X_test: ', (10196, 3, 32, 32))\n",
            "('y_test: ', (10196,))\n",
            "Number of Classes: 6\n"
          ]
        }
      ],
      "source": [
        "# Load the (preprocessed) CINIC10 data - Note that CINIC10 was modified in size for this course\n",
        "\n",
        "data = get_CINIC10_data()\n",
        "for k, v in list(data.items()):\n",
        "  print(('%s: ' % k, v.shape))\n",
        "\n",
        "print('Number of Classes: {}'.format(len(np.unique(data['y_train']))))"
      ]
    },
    {
      "cell_type": "markdown",
      "metadata": {
        "id": "epAQOI3burmZ"
      },
      "source": [
        "# Affine layer: forward\n",
        "Open the file `ece697ls/layers.py` and implement the `affine_forward` function.\n",
        "\n",
        "Once you are done you can test your implementaion by running the following:"
      ]
    },
    {
      "cell_type": "code",
      "execution_count": null,
      "metadata": {
        "id": "8I6IIg9Hurma",
        "colab": {
          "base_uri": "https://localhost:8080/"
        },
        "outputId": "d57a0323-b2ce-49cf-cc0c-9c937c24d192"
      },
      "outputs": [
        {
          "output_type": "stream",
          "name": "stdout",
          "text": [
            "Testing affine_forward function:\n",
            "difference:  9.769849468192957e-10\n"
          ]
        }
      ],
      "source": [
        "# Test the affine_forward function\n",
        "\n",
        "num_inputs = 2\n",
        "input_shape = (4, 5, 6)\n",
        "output_dim = 3\n",
        "\n",
        "input_size = num_inputs * np.prod(input_shape)\n",
        "weight_size = output_dim * np.prod(input_shape)\n",
        "\n",
        "x = np.linspace(-0.1, 0.5, num=input_size).reshape(num_inputs, *input_shape)\n",
        "w = np.linspace(-0.2, 0.3, num=weight_size).reshape(np.prod(input_shape), output_dim)\n",
        "b = np.linspace(-0.3, 0.1, num=output_dim)\n",
        "\n",
        "out, _ = affine_forward(x, w, b)\n",
        "correct_out = np.array([[ 1.49834967,  1.70660132,  1.91485297],\n",
        "                        [ 3.25553199,  3.5141327,   3.77273342]])\n",
        "\n",
        "# Compare your output with ours. The error should be around e-9 or less.\n",
        "print('Testing affine_forward function:')\n",
        "print('difference: ', rel_error(out, correct_out))"
      ]
    },
    {
      "cell_type": "markdown",
      "metadata": {
        "id": "4Iz47beYurme"
      },
      "source": [
        "# Affine layer: backward\n",
        "Now implement the `affine_backward` function and test your implementation using numeric gradient checking."
      ]
    },
    {
      "cell_type": "code",
      "execution_count": null,
      "metadata": {
        "id": "wRq5_6Elurmf",
        "colab": {
          "base_uri": "https://localhost:8080/"
        },
        "outputId": "987967a9-007f-490d-abdd-2481c807f950"
      },
      "outputs": [
        {
          "output_type": "stream",
          "name": "stdout",
          "text": [
            "Testing affine_backward function:\n",
            "dx error:  5.399100368651805e-11\n",
            "dw error:  9.904211865398145e-11\n",
            "db error:  2.4122867568119087e-11\n"
          ]
        }
      ],
      "source": [
        "# Test the affine_backward function\n",
        "np.random.seed(231)\n",
        "x = np.random.randn(10, 2, 3)\n",
        "w = np.random.randn(6, 5)\n",
        "b = np.random.randn(5)\n",
        "dout = np.random.randn(10, 5)\n",
        "\n",
        "dx_num = eval_numerical_gradient_array(lambda x: affine_forward(x, w, b)[0], x, dout)\n",
        "dw_num = eval_numerical_gradient_array(lambda w: affine_forward(x, w, b)[0], w, dout)\n",
        "db_num = eval_numerical_gradient_array(lambda b: affine_forward(x, w, b)[0], b, dout)\n",
        "\n",
        "_, cache = affine_forward(x, w, b)\n",
        "dx, dw, db = affine_backward(dout, cache)\n",
        "\n",
        "# The error should be around e-10 or less\n",
        "print('Testing affine_backward function:')\n",
        "print('dx error: ', rel_error(dx_num, dx))\n",
        "print('dw error: ', rel_error(dw_num, dw))\n",
        "print('db error: ', rel_error(db_num, db))"
      ]
    },
    {
      "cell_type": "markdown",
      "metadata": {
        "id": "dr7IrL2murmk"
      },
      "source": [
        "# ReLU activation: forward\n",
        "Implement the forward pass for the ReLU activation function in the `relu_forward` function and test your implementation using the following:"
      ]
    },
    {
      "cell_type": "code",
      "execution_count": null,
      "metadata": {
        "id": "utWE7vFpurml",
        "colab": {
          "base_uri": "https://localhost:8080/"
        },
        "outputId": "4c5eeb5d-bd34-439c-8b0f-2e4711074b5a"
      },
      "outputs": [
        {
          "output_type": "stream",
          "name": "stdout",
          "text": [
            "Testing relu_forward function:\n",
            "difference:  4.999999798022158e-08\n"
          ]
        }
      ],
      "source": [
        "# Test the relu_forward function\n",
        "\n",
        "x = np.linspace(-0.5, 0.5, num=12).reshape(3, 4)\n",
        "\n",
        "out, _ = relu_forward(x)\n",
        "correct_out = np.array([[ 0.,          0.,          0.,          0.,        ],\n",
        "                        [ 0.,          0.,          0.04545455,  0.13636364,],\n",
        "                        [ 0.22727273,  0.31818182,  0.40909091,  0.5,       ]])\n",
        "\n",
        "# Compare your output with ours. The error should be on the order of e-8\n",
        "print('Testing relu_forward function:')\n",
        "print('difference: ', rel_error(out, correct_out))"
      ]
    },
    {
      "cell_type": "markdown",
      "metadata": {
        "id": "m6m0RslFurmw"
      },
      "source": [
        "# ReLU activation: backward\n",
        "Now implement the backward pass for the ReLU activation function in the `relu_backward` function and test your implementation using numeric gradient checking:"
      ]
    },
    {
      "cell_type": "code",
      "execution_count": null,
      "metadata": {
        "id": "8M6GJoQSurmy",
        "colab": {
          "base_uri": "https://localhost:8080/"
        },
        "outputId": "f80df480-a5b6-4b45-8b50-f738ac077028"
      },
      "outputs": [
        {
          "output_type": "stream",
          "name": "stdout",
          "text": [
            "Testing relu_backward function:\n",
            "dx error:  3.2756349136310288e-12\n"
          ]
        }
      ],
      "source": [
        "np.random.seed(231)\n",
        "x = np.random.randn(10, 10)\n",
        "dout = np.random.randn(*x.shape)\n",
        "\n",
        "dx_num = eval_numerical_gradient_array(lambda x: relu_forward(x)[0], x, dout)\n",
        "\n",
        "_, cache = relu_forward(x)\n",
        "dx = relu_backward(dout, cache)\n",
        "\n",
        "# The error should be on the order of e-12\n",
        "print('Testing relu_backward function:')\n",
        "print('dx error: ', rel_error(dx_num, dx))"
      ]
    },
    {
      "cell_type": "markdown",
      "metadata": {
        "id": "aO8e_-SZurm4",
        "tags": [
          "pdf-inline"
        ]
      },
      "source": [
        "## Inline Question 1:\n",
        "\n",
        "We've only asked you to implement ReLU, but there are a number of different activation functions that one could use in neural networks, each with its pros and cons. In particular, an issue commonly seen with activation functions is getting zero (or close to zero) gradient flow during backpropagation. Which of the following activation functions have this problem? If you consider these functions in the one dimensional case, what types of input would lead to this behaviour?\n",
        "1. Sigmoid\n",
        "2. Tanh\n",
        "\n",
        "## Answer:\n",
        "\n",
        "Both activation functions have this problem.\n",
        "1. Sigmoid  \n",
        "Derivative of sigmoid function is $\\sigma'(x)=\\sigma(x)(1 - \\sigma(x))$ and since sigmoid function is defined as $\\frac{1}{1+e^{-x}}$, then as input $|x| \\to \\infty$ sigmoid function would saturates at 0 or 1. Thus, $\\sigma'(x)$ would be vanished.\n",
        "\n",
        "2. Tanh  \n",
        "Derivative of tanh function is $\\tanh'(x) = 1- \\tanh^2(x)$. Then as input $|x|\\to \\infty$, tanh function would saturates at -1 or 1 and $\\tanh'(x)$ would be vanished.\n"
      ]
    },
    {
      "cell_type": "markdown",
      "source": [
        "## Inline Question 2:\n",
        "\n",
        "Why is an activation function required ? Why is a bias required ?\n",
        "\n",
        "## Answer:\n",
        "\n",
        "Activation function is required because:  \n",
        "- Wihtout activation function, a deep neural network would collapse into single linear layer. Then stacking more layers doesn't add modeling power.\n",
        "- Nonlinearity lets the network model interactions and complex shapes.\n",
        "\n",
        "Bias is required because:  \n",
        "- Shift the function, then we would be able to manipulate the decision boundary.\n",
        "- Biases give each neuron its own offset so multiple neurons don’t learn identical weight patterns."
      ],
      "metadata": {
        "id": "ggA3VKz4FgZF"
      }
    },
    {
      "cell_type": "markdown",
      "metadata": {
        "id": "nQu1BShUurm5"
      },
      "source": [
        "# \"Sandwich\" layers\n",
        "There are some common patterns of layers that are frequently used in neural nets. For example, affine layers are frequently followed by a ReLU nonlinearity. To make these common patterns easy, we define several convenience layers in the file `ece697ls/layer_utils.py`.\n",
        "\n",
        "For now take a look at the `affine_relu_forward` and `affine_relu_backward` functions, and run the following to numerically gradient check the backward pass:"
      ]
    },
    {
      "cell_type": "code",
      "execution_count": null,
      "metadata": {
        "id": "-03OQYEuurm6",
        "colab": {
          "base_uri": "https://localhost:8080/"
        },
        "outputId": "839e8ea3-55df-4676-9760-29ac83fd3f9b"
      },
      "outputs": [
        {
          "output_type": "stream",
          "name": "stdout",
          "text": [
            "Testing affine_relu_forward and affine_relu_backward:\n",
            "dx error:  2.299579177309368e-11\n",
            "dw error:  8.162011105764925e-11\n",
            "db error:  7.826724021458994e-12\n"
          ]
        }
      ],
      "source": [
        "from ece662.layer_utils import affine_relu_forward, affine_relu_backward\n",
        "np.random.seed(231)\n",
        "x = np.random.randn(2, 3, 4)\n",
        "w = np.random.randn(12, 10)\n",
        "b = np.random.randn(10)\n",
        "dout = np.random.randn(2, 10)\n",
        "\n",
        "out, cache = affine_relu_forward(x, w, b)\n",
        "dx, dw, db = affine_relu_backward(dout, cache)\n",
        "\n",
        "dx_num = eval_numerical_gradient_array(lambda x: affine_relu_forward(x, w, b)[0], x, dout)\n",
        "dw_num = eval_numerical_gradient_array(lambda w: affine_relu_forward(x, w, b)[0], w, dout)\n",
        "db_num = eval_numerical_gradient_array(lambda b: affine_relu_forward(x, w, b)[0], b, dout)\n",
        "\n",
        "# Relative error should be around e-10 or less\n",
        "print('Testing affine_relu_forward and affine_relu_backward:')\n",
        "print('dx error: ', rel_error(dx_num, dx))\n",
        "print('dw error: ', rel_error(dw_num, dw))\n",
        "print('db error: ', rel_error(db_num, db))"
      ]
    },
    {
      "cell_type": "markdown",
      "metadata": {
        "id": "kT-rMfXnurm-"
      },
      "source": [
        "# Loss layers: Softmax and SVM\n",
        "You implemented these loss functions in the last assignment, so we'll give them to you for free here. You should still make sure you understand how they work by looking at the implementations in `ece697ls/layers.py`.\n",
        "\n",
        "You can make sure that the implementations are correct by running the following:"
      ]
    },
    {
      "cell_type": "code",
      "execution_count": null,
      "metadata": {
        "id": "SC0Ihz_xurm_",
        "colab": {
          "base_uri": "https://localhost:8080/"
        },
        "outputId": "b03506b3-36a8-4fe9-d8fe-2c222ac6e3ee"
      },
      "outputs": [
        {
          "output_type": "stream",
          "name": "stdout",
          "text": [
            "Testing svm_loss:\n",
            "loss:  8.999602749096233\n",
            "dx error:  1.4021566006651672e-09\n",
            "\n",
            "Testing softmax_loss:\n",
            "loss:  2.302545844500738\n",
            "dx error:  9.384673161989355e-09\n"
          ]
        }
      ],
      "source": [
        "np.random.seed(231)\n",
        "num_classes, num_inputs = 10, 50\n",
        "x = 0.001 * np.random.randn(num_inputs, num_classes)\n",
        "y = np.random.randint(num_classes, size=num_inputs)\n",
        "\n",
        "dx_num = eval_numerical_gradient(lambda x: svm_loss(x, y)[0], x, verbose=False)\n",
        "loss, dx = svm_loss(x, y)\n",
        "\n",
        "# Test svm_loss function. Loss should be around 9 and dx error should be around the order of e-9\n",
        "print('Testing svm_loss:')\n",
        "print('loss: ', loss)\n",
        "print('dx error: ', rel_error(dx_num, dx))\n",
        "\n",
        "dx_num = eval_numerical_gradient(lambda x: softmax_loss(x, y)[0], x, verbose=False)\n",
        "loss, dx = softmax_loss(x, y)\n",
        "\n",
        "# Test softmax_loss function. Loss should be close to 2.3 and dx error should be around e-8\n",
        "print('\\nTesting softmax_loss:')\n",
        "print('loss: ', loss)\n",
        "print('dx error: ', rel_error(dx_num, dx))"
      ]
    },
    {
      "cell_type": "markdown",
      "metadata": {
        "id": "gWowXqiiurnD"
      },
      "source": [
        "# Two-layer network\n",
        "In the previous assignment you implemented a two-layer neural network in a single monolithic class. Now that you have implemented modular versions of the necessary layers, you will reimplement the two layer network using these modular implementations.\n",
        "\n",
        "Open the file `ece697ls/classifiers/fc_net.py` and complete the implementation of the `TwoLayerNet` class. This class will serve as a model for the other networks you will implement in this assignment, so read through it to make sure you understand the API. You can run the cell below to test your implementation."
      ]
    },
    {
      "cell_type": "code",
      "execution_count": null,
      "metadata": {
        "id": "6xvHwzJeurnD",
        "colab": {
          "base_uri": "https://localhost:8080/"
        },
        "outputId": "d686c32b-6ae3-4a1d-955c-50e35c279059"
      },
      "outputs": [
        {
          "output_type": "stream",
          "name": "stdout",
          "text": [
            "Testing initialization ... \n",
            "Testing test-time forward pass ... \n",
            "Testing training loss (no regularization)\n",
            "Running numeric gradient check with reg =  0.0\n",
            "W1 relative error: 1.83e-08\n",
            "W2 relative error: 3.12e-10\n",
            "b1 relative error: 9.83e-09\n",
            "b2 relative error: 4.33e-10\n",
            "Running numeric gradient check with reg =  0.7\n",
            "W1 relative error: 2.53e-07\n",
            "W2 relative error: 2.85e-08\n",
            "b1 relative error: 1.56e-08\n",
            "b2 relative error: 7.76e-10\n"
          ]
        }
      ],
      "source": [
        "np.random.seed(231)\n",
        "N, D, H, C = 3, 5, 50, 7\n",
        "X = np.random.randn(N, D)\n",
        "y = np.random.randint(C, size=N)\n",
        "\n",
        "std = 1e-3\n",
        "model = TwoLayerNet(input_dim=D, hidden_dim=H, num_classes=C, weight_scale=std)\n",
        "\n",
        "print('Testing initialization ... ')\n",
        "W1_std = abs(model.params['W1'].std() - std)\n",
        "b1 = model.params['b1']\n",
        "W2_std = abs(model.params['W2'].std() - std)\n",
        "b2 = model.params['b2']\n",
        "assert W1_std < std / 10, 'First layer weights do not seem right'\n",
        "assert np.all(b1 == 0), 'First layer biases do not seem right'\n",
        "assert W2_std < std / 10, 'Second layer weights do not seem right'\n",
        "assert np.all(b2 == 0), 'Second layer biases do not seem right'\n",
        "\n",
        "print('Testing test-time forward pass ... ')\n",
        "model.params['W1'] = np.linspace(-0.7, 0.3, num=D*H).reshape(D, H)\n",
        "model.params['b1'] = np.linspace(-0.1, 0.9, num=H)\n",
        "model.params['W2'] = np.linspace(-0.3, 0.4, num=H*C).reshape(H, C)\n",
        "model.params['b2'] = np.linspace(-0.9, 0.1, num=C)\n",
        "X = np.linspace(-5.5, 4.5, num=N*D).reshape(D, N).T\n",
        "scores = model.loss(X)\n",
        "correct_scores = np.asarray(\n",
        "  [[11.53165108,  12.2917344,   13.05181771,  13.81190102,  14.57198434, 15.33206765,  16.09215096],\n",
        "   [12.05769098,  12.74614105,  13.43459113,  14.1230412,   14.81149128, 15.49994135,  16.18839143],\n",
        "   [12.58373087,  13.20054771,  13.81736455,  14.43418138,  15.05099822, 15.66781506,  16.2846319 ]])\n",
        "scores_diff = np.abs(scores - correct_scores).sum()\n",
        "assert scores_diff < 1e-6, 'Problem with test-time forward pass'\n",
        "\n",
        "print('Testing training loss (no regularization)')\n",
        "y = np.asarray([0, 5, 1])\n",
        "loss, grads = model.loss(X, y)\n",
        "correct_loss = 3.4702243556\n",
        "assert abs(loss - correct_loss) < 1e-10, 'Problem with training-time loss'\n",
        "\n",
        "model.reg = 1.0\n",
        "loss, grads = model.loss(X, y)\n",
        "correct_loss = 26.5948426952\n",
        "assert abs(loss - correct_loss) < 1e-10, 'Problem with regularization loss'\n",
        "\n",
        "# Errors should be around e-7 or less\n",
        "for reg in [0.0, 0.7]:\n",
        "  print('Running numeric gradient check with reg = ', reg)\n",
        "  model.reg = reg\n",
        "  loss, grads = model.loss(X, y)\n",
        "\n",
        "  for name in sorted(grads):\n",
        "    f = lambda _: model.loss(X, y)[0]\n",
        "    grad_num = eval_numerical_gradient(f, model.params[name], verbose=False)\n",
        "    print('%s relative error: %.2e' % (name, rel_error(grad_num, grads[name])))"
      ]
    },
    {
      "cell_type": "code",
      "source": [
        "np.random.seed(231)\n",
        "N, D, H, C = 3, 5, 50, 7\n",
        "X = np.random.randn(N, D)\n",
        "y = np.random.randint(C, size=N)\n",
        "\n",
        "std = 1e-3\n",
        "model = TwoLayerNet(input_dim=D, hidden_dim=H, num_classes=C, weight_scale=std)\n",
        "print(model.params['W2'])"
      ],
      "metadata": {
        "id": "KL8_zq5PeULO",
        "outputId": "5805e751-e5d1-4ee1-cc6a-b3dc919fdd89",
        "colab": {
          "base_uri": "https://localhost:8080/"
        }
      },
      "execution_count": null,
      "outputs": [
        {
          "output_type": "stream",
          "name": "stdout",
          "text": [
            "[[ 7.85459586e-04  5.20032672e-04 -4.78305739e-04 -2.04063507e-04\n",
            "  -9.55564906e-04 -1.68961142e-03  3.74758972e-04]\n",
            " [ 8.20229504e-04 -1.85007976e-03  8.24187219e-04 -1.28956103e-03\n",
            "  -1.50314505e-03 -1.36002559e-03  1.34741254e-03]\n",
            " [ 7.34303416e-04 -1.66135415e-03  1.07564149e-03  1.25593369e-03\n",
            "   2.92560482e-03  1.03904582e-03  3.86337081e-04]\n",
            " [-2.90788833e-04  2.27638827e-03  9.64397661e-04 -1.32027378e-03\n",
            "  -5.52127608e-04  9.93469539e-04  1.94313667e-04]\n",
            " [ 1.60200785e-03 -1.47107931e-03 -7.78053067e-04  2.53695942e-03\n",
            "   1.08655384e-03 -1.74624569e-04 -3.60674008e-05]\n",
            " [ 1.92217255e-04 -3.12582976e-04  7.05512422e-04 -1.51141762e-03\n",
            "  -7.86332164e-04  6.25484042e-05 -6.11195450e-04]\n",
            " [-1.13407635e-04  6.70924504e-04  8.94814105e-04 -1.21165094e-05\n",
            "   9.41243147e-04  4.27411871e-04 -1.70588218e-03]\n",
            " [ 1.24092424e-03 -1.05897990e-03  4.65943603e-05 -1.99813645e-04\n",
            "   2.93020374e-04  1.18131754e-04  1.39208744e-03]\n",
            " [-1.15282160e-03  1.93803585e-03 -8.75902499e-04 -1.24067765e-03\n",
            "  -1.75754516e-03  2.96745513e-04 -3.48744365e-04]\n",
            " [-8.40767206e-05 -7.20930088e-04 -4.61068247e-04  1.41494396e-03\n",
            "  -1.21850024e-04 -7.73754898e-04  2.90831028e-04]\n",
            " [-3.59060736e-04 -1.22860975e-03 -1.63143734e-04 -6.64628393e-04\n",
            "   2.67725356e-03  5.18741565e-04  7.87218016e-04]\n",
            " [ 9.69093117e-04  1.97027049e-04 -1.29123154e-04 -6.15343034e-04\n",
            "   7.66223573e-05 -4.78993959e-04 -7.60257236e-04]\n",
            " [ 1.08202809e-03 -1.06034944e-04 -1.34868816e-03 -8.96806266e-04\n",
            "   1.34731014e-03  1.22355788e-03  1.14618817e-03]\n",
            " [-2.75335812e-04 -3.02132928e-04  2.44118654e-04  1.27987574e-03\n",
            "   1.22043425e-03  4.94447728e-04 -7.70428505e-04]\n",
            " [ 1.19328807e-04 -1.67664312e-03  1.73731292e-03 -1.21360630e-03\n",
            "   1.92523772e-04  2.92210208e-04  4.49421393e-04]\n",
            " [ 1.24523350e-03  2.67294293e-03 -1.22288995e-03  6.21877960e-04\n",
            "  -1.82586077e-03 -7.59891909e-04  1.52764698e-03]\n",
            " [ 2.47130606e-04  1.23748191e-04  1.93472054e-04  6.25787360e-04\n",
            "   8.91284759e-04 -2.49005179e-04  6.19422168e-04]\n",
            " [ 2.13045766e-03  3.19347694e-04 -5.14389111e-04 -6.61066221e-04\n",
            "  -3.35974523e-03  2.25388644e-03 -3.09750949e-04]\n",
            " [-1.08440003e-03 -5.46009994e-04  1.82961055e-03 -4.89056226e-05\n",
            "   2.06498551e-04  1.99429370e-04 -2.88853078e-04]\n",
            " [ 6.65307440e-04 -5.98993915e-04  7.77642899e-04  7.80445365e-04\n",
            "   3.70053791e-04  1.28755091e-03 -1.21916534e-03]\n",
            " [ 6.38189722e-05  1.11446439e-04  8.42022544e-04  2.25495604e-04\n",
            "   2.44869794e-04 -1.39439300e-03  9.73676560e-04]\n",
            " [-1.39527374e-03 -3.55810882e-04  1.39483694e-03  2.54390900e-03\n",
            "   5.34005295e-04 -1.71599759e-03 -1.29204548e-03]\n",
            " [ 6.94953838e-04  5.92350081e-04 -1.33883857e-03  6.35768265e-04\n",
            "  -6.52231452e-04 -8.50733726e-04  7.17427192e-04]\n",
            " [ 8.08607006e-05  6.47954666e-04  2.08896672e-03 -1.05587566e-04\n",
            "  -1.16435042e-03  1.03751298e-03 -9.05594381e-04]\n",
            " [-1.85996477e-04 -2.35593797e-03  6.61187920e-05  1.93910867e-04\n",
            "   8.28512242e-05 -3.72756413e-04 -2.64009321e-03]\n",
            " [ 1.11115199e-03 -9.34011658e-05  7.81395376e-05 -1.74610161e-03\n",
            "  -4.44512343e-04  1.83856266e-03 -2.69227134e-03]\n",
            " [ 9.74431271e-04 -1.41831651e-04  8.76816530e-04  4.66129870e-04\n",
            "   1.10329695e-03 -8.22802341e-04  2.65070213e-04]\n",
            " [ 2.33795774e-03 -7.72199985e-04 -2.83466589e-04 -9.66059644e-05\n",
            "   4.00812975e-05 -2.84734740e-04 -4.71564641e-04]\n",
            " [ 9.82729899e-04  8.33724200e-04 -7.74371370e-04 -1.49775110e-03\n",
            "  -7.80549667e-04  2.71031050e-04 -1.40199486e-03]\n",
            " [-9.25996364e-04  1.02848412e-03  2.50298692e-04 -2.72902962e-04\n",
            "   1.45356719e-04  1.36763781e-03  7.05665592e-05]\n",
            " [-1.41011072e-03  1.77943538e-03 -5.95804592e-04  4.52247923e-04\n",
            "   1.64035669e-04  1.09335558e-03 -1.42664572e-03]\n",
            " [ 1.70127823e-04 -1.17143459e-03  2.16808136e-04  1.51428230e-03\n",
            "   1.51263965e-04  9.73332769e-04 -3.46416550e-05]\n",
            " [-9.47904245e-05  1.24543010e-04  5.55114173e-04 -6.45308381e-04\n",
            "  -1.52287889e-03  1.41418730e-03 -1.89268037e-03]\n",
            " [ 6.67754113e-04  9.77078642e-04 -3.45717921e-04 -5.46485920e-04\n",
            "   5.12453348e-04  1.40421253e-03  2.79913541e-04]\n",
            " [-4.55723717e-04  1.15203233e-03  2.12248132e-03 -1.13369703e-03\n",
            "  -7.21211007e-04  3.70507317e-04  7.97830154e-06]\n",
            " [ 5.06337399e-04 -1.92663266e-04  2.60052800e-04  1.40182469e-04\n",
            "  -7.89997280e-04  1.48941923e-03 -1.66081056e-03]\n",
            " [-6.50524136e-04  6.25407361e-05 -8.94538307e-04  7.03756368e-04\n",
            "  -4.66448535e-04 -2.92713536e-04 -8.15542888e-05]\n",
            " [ 5.89318583e-04 -4.71539703e-04 -7.30535931e-04 -2.96763004e-03\n",
            "  -2.14353926e-03  7.80340298e-04  1.77033696e-03]\n",
            " [ 1.42136106e-04 -4.24337103e-04 -7.12550212e-05 -5.93836607e-04\n",
            "  -9.31202313e-05 -1.72502283e-03  5.20070626e-04]\n",
            " [ 4.23613272e-04  4.62482046e-04 -5.42806972e-04 -7.62312757e-04\n",
            "   5.85844343e-04 -1.18398705e-03 -4.57772211e-04]\n",
            " [-4.13650873e-04  7.53769672e-05  3.64239085e-05 -1.27016565e-03\n",
            "   7.53791683e-04  1.28800419e-03 -7.19962379e-04]\n",
            " [ 7.32893712e-04  9.52654380e-04 -2.70216658e-04 -5.16972961e-04\n",
            "   1.22298233e-03  1.48723814e-03 -6.95381702e-04]\n",
            " [-7.66230390e-04 -3.46310354e-05  1.23785099e-04 -4.77045169e-04\n",
            "   3.20373114e-05 -6.75664426e-04  2.88187162e-03]\n",
            " [ 5.42300717e-04  7.10586559e-04 -1.95394435e-03  5.94656640e-04\n",
            "   8.70631402e-04 -1.61928191e-03  1.54756239e-04]\n",
            " [-6.58857966e-04  1.08514262e-03 -2.33001643e-04 -5.26269639e-04\n",
            "   2.45727427e-03  1.97147572e-04 -9.53487960e-04]\n",
            " [-8.73369288e-05  2.98266344e-04  2.55849724e-05 -7.04644312e-04\n",
            "   3.10795056e-04 -9.97004535e-05 -4.85688032e-04]\n",
            " [ 6.69445942e-04 -7.43430344e-04  3.82222826e-04 -2.70935147e-04\n",
            "  -2.14131262e-04  6.34956739e-04  1.32907691e-04]\n",
            " [ 1.15196334e-03 -9.87599579e-04  1.24314227e-03 -1.44471269e-03\n",
            "   3.03793496e-04  1.68938959e-03 -1.92970001e-03]\n",
            " [ 4.97712460e-04  1.78417828e-04  6.57867651e-04  2.15242098e-05\n",
            "   8.61183775e-05  2.13961408e-03  1.10036830e-04]\n",
            " [ 8.59982506e-04  3.80979286e-04 -1.35344189e-03  5.21018115e-04\n",
            "  -1.20187433e-04 -4.82174255e-04  4.99485101e-04]]\n"
          ]
        }
      ]
    },
    {
      "cell_type": "markdown",
      "metadata": {
        "id": "iCVX3fARurnL"
      },
      "source": [
        "# Solver\n",
        "In the previous assignment, the logic for training models was coupled to the models themselves. Following a more modular design, for this assignment we have split the logic for training models into a separate class.\n",
        "\n",
        "Open the file `ece697ls/solver.py` and read through it to familiarize yourself with the API. After doing so, use a `Solver` instance to train a `TwoLayerNet` that achieves at least `40%` accuracy on the validation set."
      ]
    },
    {
      "cell_type": "code",
      "execution_count": null,
      "metadata": {
        "id": "tln_solver_accuracy",
        "outputId": "7ff182a0-f563-4690-b691-a4a1570ec3f4",
        "colab": {
          "base_uri": "https://localhost:8080/"
        }
      },
      "outputs": [
        {
          "output_type": "stream",
          "name": "stdout",
          "text": [
            "(Iteration 1 / 4490) loss: 2.307334\n",
            "(Epoch 0 / 10) train acc: 0.179000; val_acc: 0.173909\n",
            "(Iteration 11 / 4490) loss: 2.110658\n",
            "(Iteration 21 / 4490) loss: 1.942475\n",
            "(Iteration 31 / 4490) loss: 1.791591\n",
            "(Iteration 41 / 4490) loss: 1.763153\n",
            "(Iteration 51 / 4490) loss: 1.759423\n",
            "(Iteration 61 / 4490) loss: 1.653808\n",
            "(Iteration 71 / 4490) loss: 1.690291\n",
            "(Iteration 81 / 4490) loss: 1.809174\n",
            "(Iteration 91 / 4490) loss: 1.658741\n",
            "(Iteration 101 / 4490) loss: 1.642623\n",
            "(Iteration 111 / 4490) loss: 1.602800\n",
            "(Iteration 121 / 4490) loss: 1.627475\n",
            "(Iteration 131 / 4490) loss: 1.683065\n",
            "(Iteration 141 / 4490) loss: 1.588742\n",
            "(Iteration 151 / 4490) loss: 1.533407\n",
            "(Iteration 161 / 4490) loss: 1.567582\n",
            "(Iteration 171 / 4490) loss: 1.577436\n",
            "(Iteration 181 / 4490) loss: 1.545254\n",
            "(Iteration 191 / 4490) loss: 1.611068\n",
            "(Iteration 201 / 4490) loss: 1.522999\n",
            "(Iteration 211 / 4490) loss: 1.498189\n",
            "(Iteration 221 / 4490) loss: 1.528776\n",
            "(Iteration 231 / 4490) loss: 1.484958\n",
            "(Iteration 241 / 4490) loss: 1.662741\n",
            "(Iteration 251 / 4490) loss: 1.522954\n",
            "(Iteration 261 / 4490) loss: 1.484034\n",
            "(Iteration 271 / 4490) loss: 1.582554\n",
            "(Iteration 281 / 4490) loss: 1.447313\n",
            "(Iteration 291 / 4490) loss: 1.537405\n",
            "(Iteration 301 / 4490) loss: 1.504843\n",
            "(Iteration 311 / 4490) loss: 1.472845\n",
            "(Iteration 321 / 4490) loss: 1.589817\n",
            "(Iteration 331 / 4490) loss: 1.620956\n",
            "(Iteration 341 / 4490) loss: 1.538158\n",
            "(Iteration 351 / 4490) loss: 1.559704\n",
            "(Iteration 361 / 4490) loss: 1.477780\n",
            "(Iteration 371 / 4490) loss: 1.596392\n",
            "(Iteration 381 / 4490) loss: 1.474177\n",
            "(Iteration 391 / 4490) loss: 1.456911\n",
            "(Iteration 401 / 4490) loss: 1.536528\n",
            "(Iteration 411 / 4490) loss: 1.489007\n",
            "(Iteration 421 / 4490) loss: 1.548229\n",
            "(Iteration 431 / 4490) loss: 1.495781\n",
            "(Iteration 441 / 4490) loss: 1.527426\n",
            "(Epoch 1 / 10) train acc: 0.376000; val_acc: 0.372732\n",
            "(Iteration 451 / 4490) loss: 1.446185\n",
            "(Iteration 461 / 4490) loss: 1.407593\n",
            "(Iteration 471 / 4490) loss: 1.465377\n",
            "(Iteration 481 / 4490) loss: 1.534809\n",
            "(Iteration 491 / 4490) loss: 1.612013\n",
            "(Iteration 501 / 4490) loss: 1.503563\n",
            "(Iteration 511 / 4490) loss: 1.449015\n",
            "(Iteration 521 / 4490) loss: 1.485442\n",
            "(Iteration 531 / 4490) loss: 1.514590\n",
            "(Iteration 541 / 4490) loss: 1.508731\n",
            "(Iteration 551 / 4490) loss: 1.442647\n",
            "(Iteration 561 / 4490) loss: 1.441643\n",
            "(Iteration 571 / 4490) loss: 1.580966\n",
            "(Iteration 581 / 4490) loss: 1.450655\n",
            "(Iteration 591 / 4490) loss: 1.485324\n",
            "(Iteration 601 / 4490) loss: 1.442256\n",
            "(Iteration 611 / 4490) loss: 1.498585\n",
            "(Iteration 621 / 4490) loss: 1.490299\n",
            "(Iteration 631 / 4490) loss: 1.482139\n",
            "(Iteration 641 / 4490) loss: 1.551348\n",
            "(Iteration 651 / 4490) loss: 1.540887\n",
            "(Iteration 661 / 4490) loss: 1.470443\n",
            "(Iteration 671 / 4490) loss: 1.566095\n",
            "(Iteration 681 / 4490) loss: 1.649371\n",
            "(Iteration 691 / 4490) loss: 1.562421\n",
            "(Iteration 701 / 4490) loss: 1.606262\n",
            "(Iteration 711 / 4490) loss: 1.433366\n",
            "(Iteration 721 / 4490) loss: 1.598932\n",
            "(Iteration 731 / 4490) loss: 1.345581\n",
            "(Iteration 741 / 4490) loss: 1.373710\n",
            "(Iteration 751 / 4490) loss: 1.563461\n",
            "(Iteration 761 / 4490) loss: 1.494781\n",
            "(Iteration 771 / 4490) loss: 1.477916\n",
            "(Iteration 781 / 4490) loss: 1.616650\n",
            "(Iteration 791 / 4490) loss: 1.447041\n",
            "(Iteration 801 / 4490) loss: 1.576544\n",
            "(Iteration 811 / 4490) loss: 1.382321\n",
            "(Iteration 821 / 4490) loss: 1.522095\n",
            "(Iteration 831 / 4490) loss: 1.493993\n",
            "(Iteration 841 / 4490) loss: 1.526781\n",
            "(Iteration 851 / 4490) loss: 1.393061\n",
            "(Iteration 861 / 4490) loss: 1.431977\n",
            "(Iteration 871 / 4490) loss: 1.358988\n",
            "(Iteration 881 / 4490) loss: 1.440238\n",
            "(Iteration 891 / 4490) loss: 1.388016\n",
            "(Epoch 2 / 10) train acc: 0.410000; val_acc: 0.394409\n",
            "(Iteration 901 / 4490) loss: 1.544623\n",
            "(Iteration 911 / 4490) loss: 1.480602\n",
            "(Iteration 921 / 4490) loss: 1.487812\n",
            "(Iteration 931 / 4490) loss: 1.424695\n",
            "(Iteration 941 / 4490) loss: 1.522168\n",
            "(Iteration 951 / 4490) loss: 1.436257\n",
            "(Iteration 961 / 4490) loss: 1.314980\n",
            "(Iteration 971 / 4490) loss: 1.441308\n",
            "(Iteration 981 / 4490) loss: 1.336083\n",
            "(Iteration 991 / 4490) loss: 1.363478\n",
            "(Iteration 1001 / 4490) loss: 1.475632\n",
            "(Iteration 1011 / 4490) loss: 1.475892\n",
            "(Iteration 1021 / 4490) loss: 1.368812\n",
            "(Iteration 1031 / 4490) loss: 1.338235\n",
            "(Iteration 1041 / 4490) loss: 1.554018\n",
            "(Iteration 1051 / 4490) loss: 1.381672\n",
            "(Iteration 1061 / 4490) loss: 1.395917\n",
            "(Iteration 1071 / 4490) loss: 1.343334\n",
            "(Iteration 1081 / 4490) loss: 1.433151\n",
            "(Iteration 1091 / 4490) loss: 1.363716\n",
            "(Iteration 1101 / 4490) loss: 1.375376\n",
            "(Iteration 1111 / 4490) loss: 1.494410\n",
            "(Iteration 1121 / 4490) loss: 1.543440\n",
            "(Iteration 1131 / 4490) loss: 1.346724\n",
            "(Iteration 1141 / 4490) loss: 1.496476\n",
            "(Iteration 1151 / 4490) loss: 1.584071\n",
            "(Iteration 1161 / 4490) loss: 1.470528\n",
            "(Iteration 1171 / 4490) loss: 1.303666\n",
            "(Iteration 1181 / 4490) loss: 1.440727\n",
            "(Iteration 1191 / 4490) loss: 1.353843\n",
            "(Iteration 1201 / 4490) loss: 1.476591\n",
            "(Iteration 1211 / 4490) loss: 1.428355\n",
            "(Iteration 1221 / 4490) loss: 1.494684\n",
            "(Iteration 1231 / 4490) loss: 1.345247\n",
            "(Iteration 1241 / 4490) loss: 1.389412\n",
            "(Iteration 1251 / 4490) loss: 1.494858\n",
            "(Iteration 1261 / 4490) loss: 1.504232\n",
            "(Iteration 1271 / 4490) loss: 1.464212\n",
            "(Iteration 1281 / 4490) loss: 1.441854\n",
            "(Iteration 1291 / 4490) loss: 1.384273\n",
            "(Iteration 1301 / 4490) loss: 1.477528\n",
            "(Iteration 1311 / 4490) loss: 1.289229\n",
            "(Iteration 1321 / 4490) loss: 1.492157\n",
            "(Iteration 1331 / 4490) loss: 1.361133\n",
            "(Iteration 1341 / 4490) loss: 1.267196\n",
            "(Epoch 3 / 10) train acc: 0.424000; val_acc: 0.401079\n",
            "(Iteration 1351 / 4490) loss: 1.240187\n",
            "(Iteration 1361 / 4490) loss: 1.284252\n",
            "(Iteration 1371 / 4490) loss: 1.390758\n",
            "(Iteration 1381 / 4490) loss: 1.413060\n",
            "(Iteration 1391 / 4490) loss: 1.421615\n",
            "(Iteration 1401 / 4490) loss: 1.405165\n",
            "(Iteration 1411 / 4490) loss: 1.446713\n",
            "(Iteration 1421 / 4490) loss: 1.309097\n",
            "(Iteration 1431 / 4490) loss: 1.338788\n",
            "(Iteration 1441 / 4490) loss: 1.475283\n",
            "(Iteration 1451 / 4490) loss: 1.430616\n",
            "(Iteration 1461 / 4490) loss: 1.457517\n",
            "(Iteration 1471 / 4490) loss: 1.355023\n",
            "(Iteration 1481 / 4490) loss: 1.405051\n",
            "(Iteration 1491 / 4490) loss: 1.389506\n",
            "(Iteration 1501 / 4490) loss: 1.356215\n",
            "(Iteration 1511 / 4490) loss: 1.372154\n",
            "(Iteration 1521 / 4490) loss: 1.525300\n",
            "(Iteration 1531 / 4490) loss: 1.373639\n",
            "(Iteration 1541 / 4490) loss: 1.478609\n",
            "(Iteration 1551 / 4490) loss: 1.397466\n",
            "(Iteration 1561 / 4490) loss: 1.617130\n",
            "(Iteration 1571 / 4490) loss: 1.674327\n",
            "(Iteration 1581 / 4490) loss: 1.538424\n",
            "(Iteration 1591 / 4490) loss: 1.501556\n",
            "(Iteration 1601 / 4490) loss: 1.479223\n",
            "(Iteration 1611 / 4490) loss: 1.360456\n",
            "(Iteration 1621 / 4490) loss: 1.268057\n",
            "(Iteration 1631 / 4490) loss: 1.470142\n",
            "(Iteration 1641 / 4490) loss: 1.494311\n",
            "(Iteration 1651 / 4490) loss: 1.255431\n",
            "(Iteration 1661 / 4490) loss: 1.390554\n",
            "(Iteration 1671 / 4490) loss: 1.418793\n",
            "(Iteration 1681 / 4490) loss: 1.454780\n",
            "(Iteration 1691 / 4490) loss: 1.301257\n",
            "(Iteration 1701 / 4490) loss: 1.502331\n",
            "(Iteration 1711 / 4490) loss: 1.436111\n",
            "(Iteration 1721 / 4490) loss: 1.324944\n",
            "(Iteration 1731 / 4490) loss: 1.456970\n",
            "(Iteration 1741 / 4490) loss: 1.516799\n",
            "(Iteration 1751 / 4490) loss: 1.394860\n",
            "(Iteration 1761 / 4490) loss: 1.379192\n",
            "(Iteration 1771 / 4490) loss: 1.470491\n",
            "(Iteration 1781 / 4490) loss: 1.381632\n",
            "(Iteration 1791 / 4490) loss: 1.301452\n",
            "(Epoch 4 / 10) train acc: 0.460000; val_acc: 0.405395\n",
            "(Iteration 1801 / 4490) loss: 1.480282\n",
            "(Iteration 1811 / 4490) loss: 1.311233\n",
            "(Iteration 1821 / 4490) loss: 1.495790\n",
            "(Iteration 1831 / 4490) loss: 1.347312\n",
            "(Iteration 1841 / 4490) loss: 1.432933\n",
            "(Iteration 1851 / 4490) loss: 1.463056\n",
            "(Iteration 1861 / 4490) loss: 1.479421\n",
            "(Iteration 1871 / 4490) loss: 1.377229\n",
            "(Iteration 1881 / 4490) loss: 1.395976\n",
            "(Iteration 1891 / 4490) loss: 1.445111\n",
            "(Iteration 1901 / 4490) loss: 1.438228\n",
            "(Iteration 1911 / 4490) loss: 1.470410\n",
            "(Iteration 1921 / 4490) loss: 1.312853\n",
            "(Iteration 1931 / 4490) loss: 1.387204\n",
            "(Iteration 1941 / 4490) loss: 1.493932\n",
            "(Iteration 1951 / 4490) loss: 1.490392\n",
            "(Iteration 1961 / 4490) loss: 1.366310\n",
            "(Iteration 1971 / 4490) loss: 1.236578\n",
            "(Iteration 1981 / 4490) loss: 1.379481\n",
            "(Iteration 1991 / 4490) loss: 1.285519\n",
            "(Iteration 2001 / 4490) loss: 1.364760\n",
            "(Iteration 2011 / 4490) loss: 1.414292\n",
            "(Iteration 2021 / 4490) loss: 1.460443\n",
            "(Iteration 2031 / 4490) loss: 1.326643\n",
            "(Iteration 2041 / 4490) loss: 1.303259\n",
            "(Iteration 2051 / 4490) loss: 1.435102\n",
            "(Iteration 2061 / 4490) loss: 1.393940\n",
            "(Iteration 2071 / 4490) loss: 1.302525\n",
            "(Iteration 2081 / 4490) loss: 1.373415\n",
            "(Iteration 2091 / 4490) loss: 1.348728\n",
            "(Iteration 2101 / 4490) loss: 1.381582\n",
            "(Iteration 2111 / 4490) loss: 1.368071\n",
            "(Iteration 2121 / 4490) loss: 1.397397\n",
            "(Iteration 2131 / 4490) loss: 1.448802\n",
            "(Iteration 2141 / 4490) loss: 1.243561\n",
            "(Iteration 2151 / 4490) loss: 1.365598\n",
            "(Iteration 2161 / 4490) loss: 1.377973\n",
            "(Iteration 2171 / 4490) loss: 1.467101\n",
            "(Iteration 2181 / 4490) loss: 1.420409\n",
            "(Iteration 2191 / 4490) loss: 1.414773\n",
            "(Iteration 2201 / 4490) loss: 1.509880\n",
            "(Iteration 2211 / 4490) loss: 1.546040\n",
            "(Iteration 2221 / 4490) loss: 1.318010\n",
            "(Iteration 2231 / 4490) loss: 1.276935\n",
            "(Iteration 2241 / 4490) loss: 1.264671\n",
            "(Epoch 5 / 10) train acc: 0.447000; val_acc: 0.404806\n",
            "(Iteration 2251 / 4490) loss: 1.296086\n",
            "(Iteration 2261 / 4490) loss: 1.133597\n",
            "(Iteration 2271 / 4490) loss: 1.481276\n",
            "(Iteration 2281 / 4490) loss: 1.295645\n",
            "(Iteration 2291 / 4490) loss: 1.428411\n",
            "(Iteration 2301 / 4490) loss: 1.419367\n",
            "(Iteration 2311 / 4490) loss: 1.567709\n",
            "(Iteration 2321 / 4490) loss: 1.280641\n",
            "(Iteration 2331 / 4490) loss: 1.451196\n",
            "(Iteration 2341 / 4490) loss: 1.293951\n",
            "(Iteration 2351 / 4490) loss: 1.275546\n",
            "(Iteration 2361 / 4490) loss: 1.265754\n",
            "(Iteration 2371 / 4490) loss: 1.318521\n",
            "(Iteration 2381 / 4490) loss: 1.350765\n",
            "(Iteration 2391 / 4490) loss: 1.496356\n",
            "(Iteration 2401 / 4490) loss: 1.421840\n",
            "(Iteration 2411 / 4490) loss: 1.469211\n",
            "(Iteration 2421 / 4490) loss: 1.268563\n",
            "(Iteration 2431 / 4490) loss: 1.360933\n",
            "(Iteration 2441 / 4490) loss: 1.228216\n",
            "(Iteration 2451 / 4490) loss: 1.357603\n",
            "(Iteration 2461 / 4490) loss: 1.465965\n",
            "(Iteration 2471 / 4490) loss: 1.368064\n",
            "(Iteration 2481 / 4490) loss: 1.219369\n",
            "(Iteration 2491 / 4490) loss: 1.621586\n",
            "(Iteration 2501 / 4490) loss: 1.271894\n",
            "(Iteration 2511 / 4490) loss: 1.209158\n",
            "(Iteration 2521 / 4490) loss: 1.315411\n",
            "(Iteration 2531 / 4490) loss: 1.711719\n",
            "(Iteration 2541 / 4490) loss: 1.421680\n",
            "(Iteration 2551 / 4490) loss: 1.531552\n",
            "(Iteration 2561 / 4490) loss: 1.432996\n",
            "(Iteration 2571 / 4490) loss: 1.282182\n",
            "(Iteration 2581 / 4490) loss: 1.333106\n",
            "(Iteration 2591 / 4490) loss: 1.342119\n",
            "(Iteration 2601 / 4490) loss: 1.271042\n",
            "(Iteration 2611 / 4490) loss: 1.226195\n",
            "(Iteration 2621 / 4490) loss: 1.420076\n",
            "(Iteration 2631 / 4490) loss: 1.334240\n",
            "(Iteration 2641 / 4490) loss: 1.374007\n",
            "(Iteration 2651 / 4490) loss: 1.266531\n",
            "(Iteration 2661 / 4490) loss: 1.500540\n",
            "(Iteration 2671 / 4490) loss: 1.411608\n",
            "(Iteration 2681 / 4490) loss: 1.381962\n",
            "(Iteration 2691 / 4490) loss: 1.453814\n",
            "(Epoch 6 / 10) train acc: 0.480000; val_acc: 0.413928\n",
            "(Iteration 2701 / 4490) loss: 1.377886\n",
            "(Iteration 2711 / 4490) loss: 1.222687\n",
            "(Iteration 2721 / 4490) loss: 1.482582\n",
            "(Iteration 2731 / 4490) loss: 1.412134\n",
            "(Iteration 2741 / 4490) loss: 1.425444\n",
            "(Iteration 2751 / 4490) loss: 1.420817\n",
            "(Iteration 2761 / 4490) loss: 1.525360\n",
            "(Iteration 2771 / 4490) loss: 1.314766\n",
            "(Iteration 2781 / 4490) loss: 1.340496\n",
            "(Iteration 2791 / 4490) loss: 1.373749\n",
            "(Iteration 2801 / 4490) loss: 1.302679\n",
            "(Iteration 2811 / 4490) loss: 1.220020\n",
            "(Iteration 2821 / 4490) loss: 1.350962\n",
            "(Iteration 2831 / 4490) loss: 1.359463\n",
            "(Iteration 2841 / 4490) loss: 1.272003\n",
            "(Iteration 2851 / 4490) loss: 1.500753\n",
            "(Iteration 2861 / 4490) loss: 1.409331\n",
            "(Iteration 2871 / 4490) loss: 1.271855\n",
            "(Iteration 2881 / 4490) loss: 1.193981\n",
            "(Iteration 2891 / 4490) loss: 1.288538\n",
            "(Iteration 2901 / 4490) loss: 1.235490\n",
            "(Iteration 2911 / 4490) loss: 1.457427\n",
            "(Iteration 2921 / 4490) loss: 1.312908\n",
            "(Iteration 2931 / 4490) loss: 1.367972\n",
            "(Iteration 2941 / 4490) loss: 1.363223\n",
            "(Iteration 2951 / 4490) loss: 1.314955\n",
            "(Iteration 2961 / 4490) loss: 1.310581\n",
            "(Iteration 2971 / 4490) loss: 1.359580\n",
            "(Iteration 2981 / 4490) loss: 1.282028\n",
            "(Iteration 2991 / 4490) loss: 1.327172\n",
            "(Iteration 3001 / 4490) loss: 1.177222\n",
            "(Iteration 3011 / 4490) loss: 1.412776\n",
            "(Iteration 3021 / 4490) loss: 1.468939\n",
            "(Iteration 3031 / 4490) loss: 1.416872\n",
            "(Iteration 3041 / 4490) loss: 1.304252\n",
            "(Iteration 3051 / 4490) loss: 1.309459\n",
            "(Iteration 3061 / 4490) loss: 1.275969\n",
            "(Iteration 3071 / 4490) loss: 1.268915\n",
            "(Iteration 3081 / 4490) loss: 1.234124\n",
            "(Iteration 3091 / 4490) loss: 1.533057\n",
            "(Iteration 3101 / 4490) loss: 1.437074\n",
            "(Iteration 3111 / 4490) loss: 1.265682\n",
            "(Iteration 3121 / 4490) loss: 1.452681\n",
            "(Iteration 3131 / 4490) loss: 1.368509\n",
            "(Iteration 3141 / 4490) loss: 1.338241\n",
            "(Epoch 7 / 10) train acc: 0.487000; val_acc: 0.402256\n",
            "(Iteration 3151 / 4490) loss: 1.376621\n",
            "(Iteration 3161 / 4490) loss: 1.231479\n",
            "(Iteration 3171 / 4490) loss: 1.537867\n",
            "(Iteration 3181 / 4490) loss: 1.524520\n",
            "(Iteration 3191 / 4490) loss: 1.265497\n",
            "(Iteration 3201 / 4490) loss: 1.367839\n",
            "(Iteration 3211 / 4490) loss: 1.433835\n",
            "(Iteration 3221 / 4490) loss: 1.318351\n",
            "(Iteration 3231 / 4490) loss: 1.377358\n",
            "(Iteration 3241 / 4490) loss: 1.337615\n",
            "(Iteration 3251 / 4490) loss: 1.197985\n",
            "(Iteration 3261 / 4490) loss: 1.372406\n",
            "(Iteration 3271 / 4490) loss: 1.246133\n",
            "(Iteration 3281 / 4490) loss: 1.286984\n",
            "(Iteration 3291 / 4490) loss: 1.346137\n",
            "(Iteration 3301 / 4490) loss: 1.331508\n",
            "(Iteration 3311 / 4490) loss: 1.312306\n",
            "(Iteration 3321 / 4490) loss: 1.348935\n",
            "(Iteration 3331 / 4490) loss: 1.502605\n",
            "(Iteration 3341 / 4490) loss: 1.402578\n",
            "(Iteration 3351 / 4490) loss: 1.257623\n",
            "(Iteration 3361 / 4490) loss: 1.317998\n",
            "(Iteration 3371 / 4490) loss: 1.311731\n",
            "(Iteration 3381 / 4490) loss: 1.362955\n",
            "(Iteration 3391 / 4490) loss: 1.445632\n",
            "(Iteration 3401 / 4490) loss: 1.276556\n",
            "(Iteration 3411 / 4490) loss: 1.221222\n",
            "(Iteration 3421 / 4490) loss: 1.365021\n",
            "(Iteration 3431 / 4490) loss: 1.340524\n",
            "(Iteration 3441 / 4490) loss: 1.230817\n",
            "(Iteration 3451 / 4490) loss: 1.328387\n",
            "(Iteration 3461 / 4490) loss: 1.453186\n",
            "(Iteration 3471 / 4490) loss: 1.475654\n",
            "(Iteration 3481 / 4490) loss: 1.385769\n",
            "(Iteration 3491 / 4490) loss: 1.405897\n",
            "(Iteration 3501 / 4490) loss: 1.377843\n",
            "(Iteration 3511 / 4490) loss: 1.392338\n",
            "(Iteration 3521 / 4490) loss: 1.413683\n",
            "(Iteration 3531 / 4490) loss: 1.350055\n",
            "(Iteration 3541 / 4490) loss: 1.363578\n",
            "(Iteration 3551 / 4490) loss: 1.335219\n",
            "(Iteration 3561 / 4490) loss: 1.359650\n",
            "(Iteration 3571 / 4490) loss: 1.201577\n",
            "(Iteration 3581 / 4490) loss: 1.337693\n",
            "(Iteration 3591 / 4490) loss: 1.468063\n",
            "(Epoch 8 / 10) train acc: 0.489000; val_acc: 0.403923\n",
            "(Iteration 3601 / 4490) loss: 1.142075\n",
            "(Iteration 3611 / 4490) loss: 1.387013\n",
            "(Iteration 3621 / 4490) loss: 1.300658\n",
            "(Iteration 3631 / 4490) loss: 1.233626\n",
            "(Iteration 3641 / 4490) loss: 1.340313\n",
            "(Iteration 3651 / 4490) loss: 1.134360\n",
            "(Iteration 3661 / 4490) loss: 1.095644\n",
            "(Iteration 3671 / 4490) loss: 1.177230\n",
            "(Iteration 3681 / 4490) loss: 1.434747\n",
            "(Iteration 3691 / 4490) loss: 1.476480\n",
            "(Iteration 3701 / 4490) loss: 1.407531\n",
            "(Iteration 3711 / 4490) loss: 1.257877\n",
            "(Iteration 3721 / 4490) loss: 1.461377\n",
            "(Iteration 3731 / 4490) loss: 1.328171\n",
            "(Iteration 3741 / 4490) loss: 1.377525\n",
            "(Iteration 3751 / 4490) loss: 1.409542\n",
            "(Iteration 3761 / 4490) loss: 1.275087\n",
            "(Iteration 3771 / 4490) loss: 1.382709\n",
            "(Iteration 3781 / 4490) loss: 1.326547\n",
            "(Iteration 3791 / 4490) loss: 1.325371\n",
            "(Iteration 3801 / 4490) loss: 1.212281\n",
            "(Iteration 3811 / 4490) loss: 1.213020\n",
            "(Iteration 3821 / 4490) loss: 1.364170\n",
            "(Iteration 3831 / 4490) loss: 1.370713\n",
            "(Iteration 3841 / 4490) loss: 1.399188\n",
            "(Iteration 3851 / 4490) loss: 1.463878\n",
            "(Iteration 3861 / 4490) loss: 1.474075\n",
            "(Iteration 3871 / 4490) loss: 1.489355\n",
            "(Iteration 3881 / 4490) loss: 1.353628\n",
            "(Iteration 3891 / 4490) loss: 1.477087\n",
            "(Iteration 3901 / 4490) loss: 1.506365\n",
            "(Iteration 3911 / 4490) loss: 1.297929\n",
            "(Iteration 3921 / 4490) loss: 1.169762\n",
            "(Iteration 3931 / 4490) loss: 1.277234\n",
            "(Iteration 3941 / 4490) loss: 1.123160\n",
            "(Iteration 3951 / 4490) loss: 1.252322\n",
            "(Iteration 3961 / 4490) loss: 1.183047\n",
            "(Iteration 3971 / 4490) loss: 1.273419\n",
            "(Iteration 3981 / 4490) loss: 1.323328\n",
            "(Iteration 3991 / 4490) loss: 1.281778\n",
            "(Iteration 4001 / 4490) loss: 1.353040\n",
            "(Iteration 4011 / 4490) loss: 1.318058\n",
            "(Iteration 4021 / 4490) loss: 1.240977\n",
            "(Iteration 4031 / 4490) loss: 1.250622\n",
            "(Iteration 4041 / 4490) loss: 1.354130\n",
            "(Epoch 9 / 10) train acc: 0.536000; val_acc: 0.410495\n",
            "(Iteration 4051 / 4490) loss: 1.412019\n",
            "(Iteration 4061 / 4490) loss: 1.416427\n",
            "(Iteration 4071 / 4490) loss: 1.360621\n",
            "(Iteration 4081 / 4490) loss: 1.136979\n",
            "(Iteration 4091 / 4490) loss: 1.135999\n",
            "(Iteration 4101 / 4490) loss: 1.455402\n",
            "(Iteration 4111 / 4490) loss: 1.315458\n",
            "(Iteration 4121 / 4490) loss: 1.265482\n",
            "(Iteration 4131 / 4490) loss: 1.296886\n",
            "(Iteration 4141 / 4490) loss: 1.272980\n",
            "(Iteration 4151 / 4490) loss: 1.420395\n",
            "(Iteration 4161 / 4490) loss: 1.335506\n",
            "(Iteration 4171 / 4490) loss: 1.267131\n",
            "(Iteration 4181 / 4490) loss: 1.334814\n",
            "(Iteration 4191 / 4490) loss: 1.235855\n",
            "(Iteration 4201 / 4490) loss: 1.316865\n",
            "(Iteration 4211 / 4490) loss: 1.328989\n",
            "(Iteration 4221 / 4490) loss: 1.208964\n",
            "(Iteration 4231 / 4490) loss: 1.249196\n",
            "(Iteration 4241 / 4490) loss: 1.282323\n",
            "(Iteration 4251 / 4490) loss: 1.288849\n",
            "(Iteration 4261 / 4490) loss: 1.385465\n",
            "(Iteration 4271 / 4490) loss: 1.282369\n",
            "(Iteration 4281 / 4490) loss: 1.462206\n",
            "(Iteration 4291 / 4490) loss: 1.179906\n",
            "(Iteration 4301 / 4490) loss: 1.260454\n",
            "(Iteration 4311 / 4490) loss: 1.254110\n",
            "(Iteration 4321 / 4490) loss: 1.351584\n",
            "(Iteration 4331 / 4490) loss: 1.325127\n",
            "(Iteration 4341 / 4490) loss: 1.349699\n",
            "(Iteration 4351 / 4490) loss: 1.257849\n",
            "(Iteration 4361 / 4490) loss: 1.293466\n",
            "(Iteration 4371 / 4490) loss: 1.307694\n",
            "(Iteration 4381 / 4490) loss: 1.117014\n",
            "(Iteration 4391 / 4490) loss: 1.277463\n",
            "(Iteration 4401 / 4490) loss: 1.210057\n",
            "(Iteration 4411 / 4490) loss: 1.234495\n",
            "(Iteration 4421 / 4490) loss: 1.299235\n",
            "(Iteration 4431 / 4490) loss: 1.427717\n",
            "(Iteration 4441 / 4490) loss: 1.430253\n",
            "(Iteration 4451 / 4490) loss: 1.384484\n",
            "(Iteration 4461 / 4490) loss: 1.294119\n",
            "(Iteration 4471 / 4490) loss: 1.585701\n",
            "(Iteration 4481 / 4490) loss: 1.268288\n",
            "(Epoch 10 / 10) train acc: 0.508000; val_acc: 0.415498\n"
          ]
        }
      ],
      "source": [
        "model = TwoLayerNet()\n",
        "solver = None\n",
        "\n",
        "##############################################################################\n",
        "# TODO: Use a Solver instance to train a TwoLayerNet that achieves at least  #\n",
        "# 50% accuracy on the validation set.                                        #\n",
        "##############################################################################\n",
        "# *****START OF YOUR CODE (DO NOT DELETE/MODIFY THIS LINE)*****\n",
        "\n",
        "solver = Solver(model, data, optim_config={\n",
        "    'learning_rate': 1e-3}, batch_size = 120)\n",
        "\n",
        "solver.train()\n",
        "\n",
        "# *****END OF YOUR CODE (DO NOT DELETE/MODIFY THIS LINE)*****\n",
        "##############################################################################\n",
        "#                             END OF YOUR CODE                               #\n",
        "##############################################################################"
      ]
    },
    {
      "cell_type": "code",
      "execution_count": null,
      "metadata": {
        "id": "95cv7UHTurnR",
        "outputId": "d7487fb8-c323-4dfb-fe04-b1309ca8c3de",
        "colab": {
          "base_uri": "https://localhost:8080/",
          "height": 554
        }
      },
      "outputs": [
        {
          "output_type": "display_data",
          "data": {
            "text/plain": [
              "<Figure size 1500x1200 with 2 Axes>"
            ],
            "image/png": "[encoded data removed]"
          },
          "metadata": {}
        }
      ],
      "source": [
        "# Run this cell to visualize training loss and train / val accuracy\n",
        "\n",
        "plt.subplot(2, 1, 1)\n",
        "plt.title('Training loss')\n",
        "plt.plot(solver.loss_history, 'o')\n",
        "plt.xlabel('Iteration')\n",
        "\n",
        "plt.subplot(2, 1, 2)\n",
        "plt.title('Accuracy')\n",
        "plt.plot(solver.train_acc_history, '-o', label='train')\n",
        "plt.plot(solver.val_acc_history, '-o', label='val')\n",
        "plt.plot([0.5] * len(solver.val_acc_history), 'k--')\n",
        "plt.xlabel('Epoch')\n",
        "plt.legend(loc='lower right')\n",
        "plt.gcf().set_size_inches(15, 12)\n",
        "plt.show()"
      ]
    },
    {
      "cell_type": "markdown",
      "metadata": {
        "id": "vovfYCvPurnV"
      },
      "source": [
        "# Multilayer network\n",
        "Next you will implement a fully-connected network with an arbitrary number of hidden layers.\n",
        "\n",
        "Read through the `FullyConnectedNet` class in the file `ece697ls/classifiers/fc_net.py`.\n",
        "\n",
        "Implement the initialization, the forward pass, and the backward pass. For the moment don't worry about implementing dropout or batch/layer normalization; we will add those features soon."
      ]
    },
    {
      "cell_type": "markdown",
      "metadata": {
        "id": "LxCyqqDYurnX"
      },
      "source": [
        "## Initial loss and gradient check\n",
        "\n",
        "As a sanity check, run the following to check the initial loss and to gradient check the network both with and without regularization. Do the initial losses seem reasonable?\n",
        "\n",
        "For gradient checking, you should expect to see errors around 1e-7 or less."
      ]
    },
    {
      "cell_type": "code",
      "execution_count": null,
      "metadata": {
        "id": "RXvPP2LNurnY",
        "outputId": "886b9681-093f-4f85-9dfa-90295d1ef15d",
        "colab": {
          "base_uri": "https://localhost:8080/"
        }
      },
      "outputs": [
        {
          "output_type": "stream",
          "name": "stdout",
          "text": [
            "Running check with reg =  0\n",
            "Initial loss:  2.3004790897684924\n",
            "W1 relative error: 1.48e-07\n",
            "W2 relative error: 2.21e-05\n",
            "W3 relative error: 3.53e-07\n",
            "b1 relative error: 5.38e-09\n",
            "b2 relative error: 2.09e-09\n",
            "b3 relative error: 5.80e-11\n",
            "Running check with reg =  3.14\n",
            "Initial loss:  7.052114776533016\n",
            "W1 relative error: 3.90e-09\n",
            "W2 relative error: 6.87e-08\n",
            "W3 relative error: 2.13e-08\n",
            "b1 relative error: 1.48e-08\n",
            "b2 relative error: 1.72e-09\n",
            "b3 relative error: 1.57e-10\n"
          ]
        }
      ],
      "source": [
        "np.random.seed(231)\n",
        "N, D, H1, H2, C = 2, 15, 20, 30, 10\n",
        "X = np.random.randn(N, D)\n",
        "y = np.random.randint(C, size=(N,))\n",
        "\n",
        "for reg in [0, 3.14]:\n",
        "  print('Running check with reg = ', reg)\n",
        "  model = FullyConnectedNet([H1, H2], input_dim=D, num_classes=C,\n",
        "                            reg=reg, weight_scale=5e-2, dtype=np.float64)\n",
        "\n",
        "  loss, grads = model.loss(X, y)\n",
        "  print('Initial loss: ', loss)\n",
        "\n",
        "  # Most of the errors should be on the order of e-7 or smaller.\n",
        "  # NOTE: It is fine however to see an error for W2 on the order of e-5\n",
        "  # for the check when reg = 0.0\n",
        "  for name in sorted(grads):\n",
        "    f = lambda _: model.loss(X, y)[0]\n",
        "    grad_num = eval_numerical_gradient(f, model.params[name], verbose=False, h=1e-5)\n",
        "    print('%s relative error: %.2e' % (name, rel_error(grad_num, grads[name])))"
      ]
    },
    {
      "cell_type": "markdown",
      "metadata": {
        "id": "_JjeTaaWurnc"
      },
      "source": [
        "As another sanity check, make sure you can overfit a small dataset of 50 images. First we will try a three-layer network with 100 units in each hidden layer. In the following cell, tweak the **learning rate** and **weight initialization scale** to overfit and achieve 90+% training accuracy within 20 epochs."
      ]
    },
    {
      "cell_type": "code",
      "execution_count": null,
      "metadata": {
        "id": "raCmpCjHurnd",
        "scrolled": false,
        "outputId": "26782229-d125-4719-c3e1-9b61a022de6f",
        "colab": {
          "base_uri": "https://localhost:8080/",
          "height": 975
        }
      },
      "outputs": [
        {
          "output_type": "stream",
          "name": "stdout",
          "text": [
            "(Iteration 1 / 40) loss: 1.748616\n",
            "(Epoch 0 / 20) train acc: 0.300000; val_acc: 0.193919\n",
            "(Epoch 1 / 20) train acc: 0.340000; val_acc: 0.193821\n",
            "(Epoch 2 / 20) train acc: 0.580000; val_acc: 0.223247\n",
            "(Epoch 3 / 20) train acc: 0.580000; val_acc: 0.198431\n",
            "(Epoch 4 / 20) train acc: 0.620000; val_acc: 0.160863\n",
            "(Epoch 5 / 20) train acc: 0.580000; val_acc: 0.168122\n",
            "(Iteration 11 / 40) loss: 0.920719\n",
            "(Epoch 6 / 20) train acc: 0.780000; val_acc: 0.209122\n",
            "(Epoch 7 / 20) train acc: 0.920000; val_acc: 0.215204\n",
            "(Epoch 8 / 20) train acc: 0.960000; val_acc: 0.221285\n",
            "(Epoch 9 / 20) train acc: 0.980000; val_acc: 0.231682\n",
            "(Epoch 10 / 20) train acc: 1.000000; val_acc: 0.230407\n",
            "(Iteration 21 / 40) loss: 0.129545\n",
            "(Epoch 11 / 20) train acc: 1.000000; val_acc: 0.207847\n",
            "(Epoch 12 / 20) train acc: 1.000000; val_acc: 0.228151\n",
            "(Epoch 13 / 20) train acc: 1.000000; val_acc: 0.226680\n",
            "(Epoch 14 / 20) train acc: 1.000000; val_acc: 0.223541\n",
            "(Epoch 15 / 20) train acc: 1.000000; val_acc: 0.226484\n",
            "(Iteration 31 / 40) loss: 0.020701\n",
            "(Epoch 16 / 20) train acc: 1.000000; val_acc: 0.224620\n",
            "(Epoch 17 / 20) train acc: 1.000000; val_acc: 0.227366\n",
            "(Epoch 18 / 20) train acc: 1.000000; val_acc: 0.224718\n",
            "(Epoch 19 / 20) train acc: 1.000000; val_acc: 0.222854\n",
            "(Epoch 20 / 20) train acc: 1.000000; val_acc: 0.223443\n"
          ]
        },
        {
          "output_type": "display_data",
          "data": {
            "text/plain": [
              "<Figure size 1000x800 with 1 Axes>"
            ],
            "image/png": "[encoded data removed]"
          },
          "metadata": {}
        }
      ],
      "source": [
        "# TODO: Use a three-layer Net to overfit 50 training examples by\n",
        "# tweaking just the learning rate and initialization scale.\n",
        "\n",
        "num_train = 50\n",
        "small_data = {\n",
        "  'X_train': data['X_train'][:num_train],\n",
        "  'y_train': data['y_train'][:num_train],\n",
        "  'X_val': data['X_val'],\n",
        "  'y_val': data['y_val'],\n",
        "}\n",
        "\n",
        "weight_scale = 1e-2   # Experiment with this!\n",
        "learning_rate = 1e-2  # Experiment with this!\n",
        "model = FullyConnectedNet([100, 100],\n",
        "              weight_scale=weight_scale, dtype=np.float64, num_classes=6)\n",
        "solver = Solver(model, small_data,\n",
        "                print_every=10, num_epochs=20, batch_size=25,\n",
        "                update_rule='sgd',\n",
        "                optim_config={\n",
        "                  'learning_rate': learning_rate,\n",
        "                }\n",
        "         )\n",
        "solver.train()\n",
        "\n",
        "plt.plot(solver.loss_history, 'o')\n",
        "plt.title('Training loss history')\n",
        "plt.xlabel('Iteration')\n",
        "plt.ylabel('Training loss')\n",
        "plt.show()"
      ]
    },
    {
      "cell_type": "markdown",
      "metadata": {
        "id": "zkAtG77Purnh"
      },
      "source": [
        "Now try to use a five-layer network with 100 units on each layer to overfit 50 training examples. Again, you will have to adjust the learning rate and weight initialization scale, but you should be able to achieve 100% training accuracy within 20 epochs."
      ]
    },
    {
      "cell_type": "code",
      "execution_count": null,
      "metadata": {
        "id": "kGnvPaXQurni",
        "outputId": "e2b993d4-6c20-4bb5-d068-bb56c7062ddd",
        "colab": {
          "base_uri": "https://localhost:8080/",
          "height": 984
        }
      },
      "outputs": [
        {
          "output_type": "stream",
          "name": "stdout",
          "text": [
            "(Iteration 1 / 40) loss: 3.620101\n",
            "(Epoch 0 / 20) train acc: 0.260000; val_acc: 0.166650\n",
            "(Epoch 1 / 20) train acc: 0.140000; val_acc: 0.163708\n",
            "(Epoch 2 / 20) train acc: 0.460000; val_acc: 0.190780\n",
            "(Epoch 3 / 20) train acc: 0.680000; val_acc: 0.200490\n",
            "(Epoch 4 / 20) train acc: 0.820000; val_acc: 0.202845\n",
            "(Epoch 5 / 20) train acc: 0.840000; val_acc: 0.187151\n",
            "(Iteration 11 / 40) loss: 0.756230\n",
            "(Epoch 6 / 20) train acc: 0.740000; val_acc: 0.178617\n",
            "(Epoch 7 / 20) train acc: 0.960000; val_acc: 0.205395\n",
            "(Epoch 8 / 20) train acc: 0.960000; val_acc: 0.196763\n",
            "(Epoch 9 / 20) train acc: 0.840000; val_acc: 0.191859\n",
            "(Epoch 10 / 20) train acc: 0.980000; val_acc: 0.184600\n",
            "(Iteration 21 / 40) loss: 0.132708\n",
            "(Epoch 11 / 20) train acc: 1.000000; val_acc: 0.192938\n",
            "(Epoch 12 / 20) train acc: 1.000000; val_acc: 0.193722\n",
            "(Epoch 13 / 20) train acc: 1.000000; val_acc: 0.192840\n",
            "(Epoch 14 / 20) train acc: 1.000000; val_acc: 0.195782\n",
            "(Epoch 15 / 20) train acc: 1.000000; val_acc: 0.196371\n",
            "(Iteration 31 / 40) loss: 0.023958\n",
            "(Epoch 16 / 20) train acc: 1.000000; val_acc: 0.196077\n",
            "(Epoch 17 / 20) train acc: 1.000000; val_acc: 0.197548\n",
            "(Epoch 18 / 20) train acc: 1.000000; val_acc: 0.194311\n",
            "(Epoch 19 / 20) train acc: 1.000000; val_acc: 0.196371\n",
            "(Epoch 20 / 20) train acc: 1.000000; val_acc: 0.197254\n"
          ]
        },
        {
          "output_type": "display_data",
          "data": {
            "text/plain": [
              "<Figure size 1000x800 with 1 Axes>"
            ],
            "image/png": "[encoded data removed]"
          },
          "metadata": {}
        }
      ],
      "source": [
        "# TODO: Use a five-layer Net to overfit 50 training examples by\n",
        "# tweaking just the learning rate and initialization scale.\n",
        "\n",
        "num_train = 50\n",
        "small_data = {\n",
        "  'X_train': data['X_train'][:num_train],\n",
        "  'y_train': data['y_train'][:num_train],\n",
        "  'X_val': data['X_val'],\n",
        "  'y_val': data['y_val'],\n",
        "}\n",
        "\n",
        "learning_rate = 2e-2  # Experiment with this!\n",
        "weight_scale = 5e-2   # Experiment with this!\n",
        "model = FullyConnectedNet([100, 100, 100, 100],\n",
        "                weight_scale=weight_scale, dtype=np.float64)\n",
        "solver = Solver(model, small_data,\n",
        "                print_every=10, num_epochs=20, batch_size=25,\n",
        "                update_rule='sgd',\n",
        "                optim_config={\n",
        "                  'learning_rate': learning_rate,\n",
        "                }\n",
        "         )\n",
        "solver.train()\n",
        "\n",
        "plt.plot(solver.loss_history, 'o')\n",
        "plt.title('Training loss history')\n",
        "plt.xlabel('Iteration')\n",
        "plt.ylabel('Training loss')\n",
        "plt.show()"
      ]
    },
    {
      "cell_type": "markdown",
      "metadata": {
        "id": "aTqAsr93urnp",
        "tags": [
          "pdf-inline"
        ]
      },
      "source": [
        "## Inline Question 3:\n",
        "Why would you need multi-layer networks ? Will stacking several layers without activation functions be able to model complex problems ?\n",
        "\n",
        "## Answer:\n",
        "- Multi-layer networks is needed to model complex functions.\n",
        "- Stacking several layers without activation functions, the whole network collapses to just one affine map, so it can't capture non-linear structure."
      ]
    },
    {
      "cell_type": "markdown",
      "metadata": {
        "id": "sVcEwKFDurnq"
      },
      "source": [
        "# Update rules\n",
        "So far we have used vanilla stochastic gradient descent (SGD) as our update rule. More sophisticated update rules can make it easier to train deep networks. We will implement a few of the most commonly used update rules and compare them to vanilla SGD."
      ]
    },
    {
      "cell_type": "markdown",
      "metadata": {
        "id": "47hFBM9Eurnr"
      },
      "source": [
        "# SGD+Momentum\n",
        "Stochastic gradient descent with momentum is a widely used update rule that tends to make deep networks converge faster than vanilla stochastic gradient descent.\n",
        "\n",
        "Open the file `ece697ls/optim.py` and read the documentation at the top of the file to make sure you understand the API. Implement the SGD+momentum update rule in the function `sgd_momentum` and run the following to check your implementation. You should see errors less than e-8."
      ]
    },
    {
      "cell_type": "code",
      "execution_count": null,
      "metadata": {
        "id": "CluxdPf3urnr"
      },
      "outputs": [],
      "source": [
        "from ece662.optim import sgd_momentum\n",
        "\n",
        "N, D = 4, 5\n",
        "w = np.linspace(-0.4, 0.6, num=N*D).reshape(N, D)\n",
        "dw = np.linspace(-0.6, 0.4, num=N*D).reshape(N, D)\n",
        "v = np.linspace(0.6, 0.9, num=N*D).reshape(N, D)\n",
        "\n",
        "config = {'learning_rate': 1e-3, 'velocity': v}\n",
        "next_w, _ = sgd_momentum(w, dw, config=config)\n",
        "\n",
        "expected_next_w = np.asarray([\n",
        "  [ 0.1406,      0.20738947,  0.27417895,  0.34096842,  0.40775789],\n",
        "  [ 0.47454737,  0.54133684,  0.60812632,  0.67491579,  0.74170526],\n",
        "  [ 0.80849474,  0.87528421,  0.94207368,  1.00886316,  1.07565263],\n",
        "  [ 1.14244211,  1.20923158,  1.27602105,  1.34281053,  1.4096    ]])\n",
        "expected_velocity = np.asarray([\n",
        "  [ 0.5406,      0.55475789,  0.56891579, 0.58307368,  0.59723158],\n",
        "  [ 0.61138947,  0.62554737,  0.63970526,  0.65386316,  0.66802105],\n",
        "  [ 0.68217895,  0.69633684,  0.71049474,  0.72465263,  0.73881053],\n",
        "  [ 0.75296842,  0.76712632,  0.78128421,  0.79544211,  0.8096    ]])\n",
        "\n",
        "# Should see relative errors around e-8 or less\n",
        "print('next_w error: ', rel_error(next_w, expected_next_w))\n",
        "print('velocity error: ', rel_error(expected_velocity, config['velocity']))"
      ]
    },
    {
      "cell_type": "markdown",
      "metadata": {
        "id": "XPqf_IFsurnw"
      },
      "source": [
        "Once you have done so, run the following to train a six-layer network with both SGD and SGD+momentum. You should see the SGD+momentum update rule converge faster."
      ]
    },
    {
      "cell_type": "code",
      "execution_count": null,
      "metadata": {
        "id": "xsPyHamXurnx",
        "scrolled": false
      },
      "outputs": [],
      "source": [
        "num_train = 4000\n",
        "small_data = {\n",
        "  'X_train': data['X_train'][:num_train],\n",
        "  'y_train': data['y_train'][:num_train],\n",
        "  'X_val': data['X_val'],\n",
        "  'y_val': data['y_val'],\n",
        "}\n",
        "\n",
        "solvers = {}\n",
        "\n",
        "for update_rule in ['sgd', 'sgd_momentum']:\n",
        "  print('running with ', update_rule)\n",
        "  model = FullyConnectedNet([100, 100, 100, 100, 100], weight_scale=5e-2, num_classes=6)\n",
        "\n",
        "  solver = Solver(model, small_data,\n",
        "                  num_epochs=5, batch_size=100,\n",
        "                  update_rule=update_rule,\n",
        "                  optim_config={\n",
        "                    'learning_rate': 5e-3,\n",
        "                  },\n",
        "                  verbose=True)\n",
        "  solvers[update_rule] = solver\n",
        "  solver.train()\n",
        "  print()\n",
        "\n",
        "plt.subplot(3, 1, 1)\n",
        "plt.title('Training loss')\n",
        "plt.xlabel('Iteration')\n",
        "\n",
        "plt.subplot(3, 1, 2)\n",
        "plt.title('Training accuracy')\n",
        "plt.xlabel('Epoch')\n",
        "\n",
        "plt.subplot(3, 1, 3)\n",
        "plt.title('Validation accuracy')\n",
        "plt.xlabel('Epoch')\n",
        "\n",
        "for update_rule, solver in solvers.items():\n",
        "  plt.subplot(3, 1, 1)\n",
        "  plt.plot(solver.loss_history, 'o', label=\"loss_%s\" % update_rule)\n",
        "\n",
        "  plt.subplot(3, 1, 2)\n",
        "  plt.plot(solver.train_acc_history, '-o', label=\"train_acc_%s\" % update_rule)\n",
        "\n",
        "  plt.subplot(3, 1, 3)\n",
        "  plt.plot(solver.val_acc_history, '-o', label=\"val_acc_%s\" % update_rule)\n",
        "\n",
        "for i in [1, 2, 3]:\n",
        "  plt.subplot(3, 1, i)\n",
        "  plt.legend(loc='upper center', ncol=4)\n",
        "plt.gcf().set_size_inches(15, 15)\n",
        "plt.show()"
      ]
    },
    {
      "cell_type": "markdown",
      "metadata": {
        "id": "AbZEz9nrurn1"
      },
      "source": [
        "# RMSProp and Adam\n",
        "RMSProp [1] and Adam [2] are update rules that set per-parameter learning rates by using a running average of the second moments of gradients.\n",
        "\n",
        "In the file `ece697ls/optim.py`, implement the RMSProp update rule in the `rmsprop` function and implement the Adam update rule in the `adam` function, and check your implementations using the tests below.\n",
        "\n",
        "**NOTE:** Please implement the _complete_ Adam update rule (with the bias correction mechanism), not the first simplified version mentioned in the course notes.\n",
        "\n",
        "[1] Tijmen Tieleman and Geoffrey Hinton. \"Lecture 6.5-rmsprop: Divide the gradient by a running average of its recent magnitude.\" COURSERA: Neural Networks for Machine Learning 4 (2012).\n",
        "\n",
        "[2] Diederik Kingma and Jimmy Ba, \"Adam: A Method for Stochastic Optimization\", ICLR 2015."
      ]
    },
    {
      "cell_type": "code",
      "execution_count": null,
      "metadata": {
        "id": "6gzErhx-urn2"
      },
      "outputs": [],
      "source": [
        "# Test RMSProp implementation\n",
        "from ece697ls.optim import rmsprop\n",
        "\n",
        "N, D = 4, 5\n",
        "w = np.linspace(-0.4, 0.6, num=N*D).reshape(N, D)\n",
        "dw = np.linspace(-0.6, 0.4, num=N*D).reshape(N, D)\n",
        "cache = np.linspace(0.6, 0.9, num=N*D).reshape(N, D)\n",
        "\n",
        "config = {'learning_rate': 1e-2, 'cache': cache}\n",
        "next_w, _ = rmsprop(w, dw, config=config)\n",
        "\n",
        "expected_next_w = np.asarray([\n",
        "  [-0.39223849, -0.34037513, -0.28849239, -0.23659121, -0.18467247],\n",
        "  [-0.132737,   -0.08078555, -0.02881884,  0.02316247,  0.07515774],\n",
        "  [ 0.12716641,  0.17918792,  0.23122175,  0.28326742,  0.33532447],\n",
        "  [ 0.38739248,  0.43947102,  0.49155973,  0.54365823,  0.59576619]])\n",
        "expected_cache = np.asarray([\n",
        "  [ 0.5976,      0.6126277,   0.6277108,   0.64284931,  0.65804321],\n",
        "  [ 0.67329252,  0.68859723,  0.70395734,  0.71937285,  0.73484377],\n",
        "  [ 0.75037008,  0.7659518,   0.78158892,  0.79728144,  0.81302936],\n",
        "  [ 0.82883269,  0.84469141,  0.86060554,  0.87657507,  0.8926    ]])\n",
        "\n",
        "# You should see relative errors around e-7 or less\n",
        "print('next_w error: ', rel_error(expected_next_w, next_w))\n",
        "print('cache error: ', rel_error(expected_cache, config['cache']))"
      ]
    },
    {
      "cell_type": "code",
      "execution_count": null,
      "metadata": {
        "id": "9eDJM_lAurn7"
      },
      "outputs": [],
      "source": [
        "# Test Adam implementation\n",
        "from ece697ls.optim import adam\n",
        "\n",
        "N, D = 4, 5\n",
        "w = np.linspace(-0.4, 0.6, num=N*D).reshape(N, D)\n",
        "dw = np.linspace(-0.6, 0.4, num=N*D).reshape(N, D)\n",
        "m = np.linspace(0.6, 0.9, num=N*D).reshape(N, D)\n",
        "v = np.linspace(0.7, 0.5, num=N*D).reshape(N, D)\n",
        "\n",
        "config = {'learning_rate': 1e-2, 'm': m, 'v': v, 't': 5}\n",
        "next_w, _ = adam(w, dw, config=config)\n",
        "\n",
        "expected_next_w = np.asarray([\n",
        "  [-0.40094747, -0.34836187, -0.29577703, -0.24319299, -0.19060977],\n",
        "  [-0.1380274,  -0.08544591, -0.03286534,  0.01971428,  0.0722929],\n",
        "  [ 0.1248705,   0.17744702,  0.23002243,  0.28259667,  0.33516969],\n",
        "  [ 0.38774145,  0.44031188,  0.49288093,  0.54544852,  0.59801459]])\n",
        "expected_v = np.asarray([\n",
        "  [ 0.69966,     0.68908382,  0.67851319,  0.66794809,  0.65738853,],\n",
        "  [ 0.64683452,  0.63628604,  0.6257431,   0.61520571,  0.60467385,],\n",
        "  [ 0.59414753,  0.58362676,  0.57311152,  0.56260183,  0.55209767,],\n",
        "  [ 0.54159906,  0.53110598,  0.52061845,  0.51013645,  0.49966,   ]])\n",
        "expected_m = np.asarray([\n",
        "  [ 0.48,        0.49947368,  0.51894737,  0.53842105,  0.55789474],\n",
        "  [ 0.57736842,  0.59684211,  0.61631579,  0.63578947,  0.65526316],\n",
        "  [ 0.67473684,  0.69421053,  0.71368421,  0.73315789,  0.75263158],\n",
        "  [ 0.77210526,  0.79157895,  0.81105263,  0.83052632,  0.85      ]])\n",
        "\n",
        "# You should see relative errors around e-7 or less\n",
        "print('next_w error: ', rel_error(expected_next_w, next_w))\n",
        "print('v error: ', rel_error(expected_v, config['v']))\n",
        "print('m error: ', rel_error(expected_m, config['m']))"
      ]
    },
    {
      "cell_type": "markdown",
      "metadata": {
        "id": "ZZLiR8Tyurn_"
      },
      "source": [
        "Once you have debugged your RMSProp and Adam implementations, run the following to train a pair of deep networks using these new update rules:"
      ]
    },
    {
      "cell_type": "code",
      "execution_count": null,
      "metadata": {
        "id": "kxufBKLEuroA"
      },
      "outputs": [],
      "source": [
        "learning_rates = {'rmsprop': 1e-4, 'adam': 1e-3}\n",
        "for update_rule in ['adam', 'rmsprop']:\n",
        "  print('running with ', update_rule)\n",
        "  model = FullyConnectedNet([100, 100, 100, 100, 100], weight_scale=5e-2, num_classes=6)\n",
        "\n",
        "  solver = Solver(model, small_data,\n",
        "                  num_epochs=5, batch_size=100,\n",
        "                  update_rule=update_rule,\n",
        "                  optim_config={\n",
        "                    'learning_rate': learning_rates[update_rule]\n",
        "                  },\n",
        "                  verbose=True)\n",
        "  solvers[update_rule] = solver\n",
        "  solver.train()\n",
        "  print()\n",
        "\n",
        "plt.subplot(3, 1, 1)\n",
        "plt.title('Training loss')\n",
        "plt.xlabel('Iteration')\n",
        "\n",
        "plt.subplot(3, 1, 2)\n",
        "plt.title('Training accuracy')\n",
        "plt.xlabel('Epoch')\n",
        "\n",
        "plt.subplot(3, 1, 3)\n",
        "plt.title('Validation accuracy')\n",
        "plt.xlabel('Epoch')\n",
        "\n",
        "for update_rule, solver in list(solvers.items()):\n",
        "  plt.subplot(3, 1, 1)\n",
        "  plt.plot(solver.loss_history, 'o', label=update_rule)\n",
        "\n",
        "  plt.subplot(3, 1, 2)\n",
        "  plt.plot(solver.train_acc_history, '-o', label=update_rule)\n",
        "\n",
        "  plt.subplot(3, 1, 3)\n",
        "  plt.plot(solver.val_acc_history, '-o', label=update_rule)\n",
        "\n",
        "for i in [1, 2, 3]:\n",
        "  plt.subplot(3, 1, i)\n",
        "  plt.legend(loc='upper center', ncol=4)\n",
        "plt.gcf().set_size_inches(15, 15)\n",
        "plt.show()"
      ]
    },
    {
      "cell_type": "markdown",
      "metadata": {
        "id": "lTMZQejauroE",
        "tags": [
          "pdf-inline"
        ]
      },
      "source": [
        "## Inline Question 4:\n",
        "\n",
        "AdaGrad, like Adam, is a per-parameter optimization method that uses the following update rule:\n",
        "\n",
        "```\n",
        "cache += dw**2\n",
        "w += - learning_rate * dw / (np.sqrt(cache) + eps)\n",
        "```\n",
        "\n",
        "John notices that when he was training a network with AdaGrad that the updates became very small, and that his network was learning slowly. Using your knowledge of the AdaGrad update rule, why do you think the updates would become very small? Would Adam have the same issue?\n",
        "\n",
        "\n",
        "## Answer:\n",
        "[FILL YOUR ANSWER HERE]\n"
      ]
    },
    {
      "cell_type": "markdown",
      "metadata": {
        "id": "sT5GKLJCuroF"
      },
      "source": [
        "# Train a good model!\n",
        "Train the best fully-connected model that you can on CINIC-10, storing your best model in the `best_model` variable. We require you to get at least 40% accuracy on the validation set using a fully-connected net.\n",
        "\n",
        "Later in the assignment we will ask you to train the best convolutional network that you can on CINIC-10, and we would prefer that you spend your effort working on convolutional nets rather than fully-connected nets.\n",
        "\n",
        "You might find it useful to complete the `BatchNormalization.ipynb` and `Dropout.ipynb` notebooks before completing this part, since those techniques can help you train powerful models."
      ]
    },
    {
      "cell_type": "code",
      "execution_count": null,
      "metadata": {
        "id": "GlscvCxkuroG",
        "scrolled": false
      },
      "outputs": [],
      "source": [
        "best_model = None\n",
        "################################################################################\n",
        "# TODO: Train the best FullyConnectedNet that you can on CINIC-10. You might   #\n",
        "# find batch/layer normalization and dropout useful. Store your best model in  #\n",
        "# the best_model variable.                                                     #\n",
        "################################################################################\n",
        "# *****START OF YOUR CODE (DO NOT DELETE/MODIFY THIS LINE)*****\n",
        "\n",
        "\n",
        "# *****END OF YOUR CODE (DO NOT DELETE/MODIFY THIS LINE)*****\n",
        "################################################################################\n",
        "#                              END OF YOUR CODE                                #\n",
        "################################################################################"
      ]
    },
    {
      "cell_type": "markdown",
      "metadata": {
        "id": "mzIg6AeburoN"
      },
      "source": [
        "# Test your model!\n",
        "Run your best model on the validation and test sets. You should achieve above 40% accuracy on the validation set."
      ]
    },
    {
      "cell_type": "code",
      "execution_count": null,
      "metadata": {
        "id": "mlheYrbmuroS"
      },
      "outputs": [],
      "source": [
        "y_test_pred = np.argmax(best_model.loss(data['X_test']), axis=1)\n",
        "y_val_pred = np.argmax(best_model.loss(data['X_val']), axis=1)\n",
        "print('Validation set accuracy: ', (y_val_pred == data['y_val']).mean())\n",
        "print('Test set accuracy: ', (y_test_pred == data['y_test']).mean())"
      ]
    }
  ],
  "metadata": {
    "colab": {
      "provenance": []
    },
    "kernelspec": {
      "display_name": "Python 3",
      "language": "python",
      "name": "python3"
    },
    "language_info": {
      "codemirror_mode": {
        "name": "ipython",
        "version": 3
      },
      "file_extension": ".py",
      "mimetype": "text/x-python",
      "name": "python",
      "nbconvert_exporter": "python",
      "pygments_lexer": "ipython3",
      "version": "3.7.4"
    }
  },
  "nbformat": 4,
  "nbformat_minor": 0
}