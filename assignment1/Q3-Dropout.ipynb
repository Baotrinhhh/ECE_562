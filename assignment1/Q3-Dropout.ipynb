{
 "cells": [
  {
   "cell_type": "code",
   "execution_count": null,
   "metadata": {
    "id": "V8MsuayKLNuk"
   },
   "outputs": [],
   "source": [
    "# this mounts your Google Drive to the Colab VM.\n",
    "from google.colab import drive\n",
    "drive.mount('/content/drive', force_remount=True)\n",
    "\n",
    "# enter the foldername in your Drive where you have saved the unzipped\n",
    "# assignment folder, e.g. 'ece697ls/assignments/assignment3/'\n",
    "FOLDERNAME = None\n",
    "assert FOLDERNAME is not None, \"[!] Enter the foldername.\"\n",
    "\n",
    "# now that we've mounted your Drive, this ensures that\n",
    "# the Python interpreter of the Colab VM can load\n",
    "# python files from within it.\n",
    "import sys\n",
    "sys.path.append('/content/drive/My Drive/{}'.format(FOLDERNAME))\n",
    "\n",
    "%cd /content"
   ]
  },
  {
   "cell_type": "markdown",
   "metadata": {
    "id": "xtQt3__CLNuo",
    "tags": [
     "pdf-title"
    ]
   },
   "source": [
    "# Dropout\n",
    "Dropout [1] is a technique for regularizing neural networks by randomly setting some output activations to zero during the forward pass. In this exercise you will implement a dropout layer and modify your fully-connected network to optionally use dropout.\n",
    "\n",
    "[1] [Geoffrey E. Hinton et al, \"Improving neural networks by preventing co-adaptation of feature detectors\", arXiv 2012](https://arxiv.org/abs/1207.0580)"
   ]
  },
  {
   "cell_type": "code",
   "execution_count": 1,
   "metadata": {
    "id": "QPRLM3-5LNup",
    "tags": [
     "pdf-ignore"
    ]
   },
   "outputs": [
    {
     "name": "stdout",
     "output_type": "stream",
     "text": [
      "=========== You can safely ignore the message below if you are NOT working on ConvolutionalNetworks.ipynb ===========\n",
      "\tYou will need to compile a Cython extension for a portion of this assignment.\n",
      "\tThe instructions to do this will be given in a section of the notebook below.\n",
      "\tThere will be an option for Colab users and another for Jupyter (local) users.\n"
     ]
    }
   ],
   "source": [
    "# As usual, a bit of setup\n",
    "from __future__ import print_function\n",
    "import time\n",
    "import numpy as np\n",
    "import matplotlib.pyplot as plt\n",
    "from ece662.classifiers.fc_net import *\n",
    "from ece662.data_utils import get_CINIC10_data\n",
    "from ece662.gradient_check import eval_numerical_gradient, eval_numerical_gradient_array\n",
    "from ece662.solver import Solver\n",
    "\n",
    "%matplotlib inline\n",
    "plt.rcParams['figure.figsize'] = (10.0, 8.0) # set default size of plots\n",
    "plt.rcParams['image.interpolation'] = 'nearest'\n",
    "plt.rcParams['image.cmap'] = 'gray'\n",
    "\n",
    "# for auto-reloading external modules\n",
    "# see http://stackoverflow.com/questions/1907993/autoreload-of-modules-in-ipython\n",
    "%load_ext autoreload\n",
    "%autoreload 2\n",
    "\n",
    "def rel_error(x, y):\n",
    "  \"\"\" returns relative error \"\"\"\n",
    "  return np.max(np.abs(x - y) / (np.maximum(1e-8, np.abs(x) + np.abs(y))))"
   ]
  },
  {
   "cell_type": "code",
   "execution_count": 2,
   "metadata": {
    "id": "hiflBVwaLNuq",
    "tags": [
     "pdf-ignore"
    ]
   },
   "outputs": [
    {
     "name": "stdout",
     "output_type": "stream",
     "text": [
      "('X_train: ', (53973, 3, 32, 32))\n",
      "('y_train: ', (53973,))\n",
      "('X_val: ', (10195, 3, 32, 32))\n",
      "('y_val: ', (10195,))\n",
      "('X_test: ', (10196, 3, 32, 32))\n",
      "('y_test: ', (10196,))\n",
      "Number of Classes: 6\n"
     ]
    }
   ],
   "source": [
    "# Load the (preprocessed) CINIC10 data - Note that CINIC10 was modified in size for this course\n",
    "\n",
    "data = get_CINIC10_data()\n",
    "for k, v in list(data.items()):\n",
    "  print(('%s: ' % k, v.shape))\n",
    "\n",
    "print('Number of Classes: {}'.format(len(np.unique(data['y_train'])))) "
   ]
  },
  {
   "cell_type": "markdown",
   "metadata": {
    "id": "1-PJSXo2LNur"
   },
   "source": [
    "# Dropout forward pass\n",
    "In the file `ece697ls/layers.py`, implement the forward pass for dropout. Since dropout behaves differently during training and testing, make sure to implement the operation for both modes.\n",
    "\n",
    "Once you have done so, run the cell below to test your implementation."
   ]
  },
  {
   "cell_type": "code",
   "execution_count": 3,
   "metadata": {
    "id": "XnwJnrc_LNur"
   },
   "outputs": [
    {
     "name": "stdout",
     "output_type": "stream",
     "text": [
      "Running tests with p =  0.25\n",
      "Mean of input:  10.000207878477502\n",
      "Mean of train-time output:  10.014059116977283\n",
      "Mean of test-time output:  10.000207878477502\n",
      "Fraction of train-time output set to zero:  0.749784\n",
      "Fraction of test-time output set to zero:  0.0\n",
      "\n",
      "Running tests with p =  0.4\n",
      "Mean of input:  10.000207878477502\n",
      "Mean of train-time output:  9.977917658761159\n",
      "Mean of test-time output:  10.000207878477502\n",
      "Fraction of train-time output set to zero:  0.600796\n",
      "Fraction of test-time output set to zero:  0.0\n",
      "\n",
      "Running tests with p =  0.7\n",
      "Mean of input:  10.000207878477502\n",
      "Mean of train-time output:  9.987811912159426\n",
      "Mean of test-time output:  10.000207878477502\n",
      "Fraction of train-time output set to zero:  0.30074\n",
      "Fraction of test-time output set to zero:  0.0\n",
      "\n"
     ]
    }
   ],
   "source": [
    "np.random.seed(231)\n",
    "x = np.random.randn(500, 500) + 10\n",
    "\n",
    "for p in [0.25, 0.4, 0.7]:\n",
    "  out, _ = dropout_forward(x, {'mode': 'train', 'p': p})\n",
    "  out_test, _ = dropout_forward(x, {'mode': 'test', 'p': p})\n",
    "\n",
    "  print('Running tests with p = ', p)\n",
    "  print('Mean of input: ', x.mean())\n",
    "  print('Mean of train-time output: ', out.mean())\n",
    "  print('Mean of test-time output: ', out_test.mean())\n",
    "  print('Fraction of train-time output set to zero: ', (out == 0).mean())\n",
    "  print('Fraction of test-time output set to zero: ', (out_test == 0).mean())\n",
    "  print()"
   ]
  },
  {
   "cell_type": "markdown",
   "metadata": {
    "id": "S1OjfIRjLNus"
   },
   "source": [
    "# Dropout backward pass\n",
    "In the file `ece697ls/layers.py`, implement the backward pass for dropout. After doing so, run the following cell to numerically gradient-check your implementation."
   ]
  },
  {
   "cell_type": "code",
   "execution_count": 5,
   "metadata": {
    "id": "IWWolRjVLNut"
   },
   "outputs": [
    {
     "name": "stdout",
     "output_type": "stream",
     "text": [
      "dx relative error:  1.8928938043362133e-11\n"
     ]
    }
   ],
   "source": [
    "np.random.seed(231)\n",
    "x = np.random.randn(10, 10) + 10\n",
    "dout = np.random.randn(*x.shape)\n",
    "\n",
    "dropout_param = {'mode': 'train', 'p': 0.2, 'seed': 123}\n",
    "out, cache = dropout_forward(x, dropout_param)\n",
    "dx = dropout_backward(dout, cache)\n",
    "dx_num = eval_numerical_gradient_array(lambda xx: dropout_forward(xx, dropout_param)[0], x, dout)\n",
    "\n",
    "# Error should be around e-10 or less\n",
    "print('dx relative error: ', rel_error(dx, dx_num))"
   ]
  },
  {
   "cell_type": "markdown",
   "metadata": {
    "id": "KQd7wFneLNut",
    "tags": [
     "pdf-inline"
    ]
   },
   "source": [
    "## Inline Question 1:\n",
    "What happens if we do not divide the values being passed through inverse dropout by `p` in the dropout layer? Why does that happen?\n",
    "\n",
    "## Answer:\n",
    "If not divide the values being passed through inverse dropout by `p` in the dropout layer, it would cause:\n",
    "- Inconsistent Expected Values:\n",
    "\n",
    "    Training time: E[output] = p * original_value  \n",
    "    Test time: E[output] = original_value\n",
    "\n",
    "- Poor Test Performance:   \n",
    "\n",
    "    The network learns with reduced activation magnitudes during training but receives full-scale activations during testing, leading to overconfident predictions and degraded performance.\n",
    "\n",
    "This happens because:  \n",
    "The division by p (inverse dropout) serves to maintain consistent expected activation values between training and testing phases:\n",
    "\n",
    "- During Training: We randomly set (1-p) fraction of neurons to zero and divide remaining values by p\n",
    "\n",
    "- During Testing: We use all neurons without modification\n",
    "This ensures that  \n",
    "    E[activation_training] = E[activation_testing],  \n",
    "allowing the network to make consistent predictions regardless of the phase.\n"
   ]
  },
  {
   "cell_type": "markdown",
   "metadata": {
    "id": "ouIw9sWYLNuu"
   },
   "source": [
    "# Fully-connected nets with Dropout\n",
    "In the file `ece697ls/classifiers/fc_net.py`, modify your implementation to use dropout. Specifically, if the constructor of the network receives a value that is not 1 for the `dropout` parameter, then the net should add a dropout layer immediately after every ReLU nonlinearity. After doing so, run the following to numerically gradient-check your implementation."
   ]
  },
  {
   "cell_type": "code",
   "execution_count": 6,
   "metadata": {
    "id": "PX-8Q9KkLNuu"
   },
   "outputs": [
    {
     "name": "stdout",
     "output_type": "stream",
     "text": [
      "Running check with dropout =  1\n",
      "Initial loss:  2.3004790897684924\n",
      "W1 relative error: 1.48e-07\n",
      "W2 relative error: 2.21e-05\n",
      "W3 relative error: 3.53e-07\n",
      "b1 relative error: 5.38e-09\n",
      "b2 relative error: 2.09e-09\n",
      "b3 relative error: 5.80e-11\n",
      "\n",
      "Running check with dropout =  0.75\n",
      "Initial loss:  2.302371489704412\n",
      "W1 relative error: 1.90e-07\n",
      "W2 relative error: 4.76e-06\n",
      "W3 relative error: 2.60e-08\n",
      "b1 relative error: 4.73e-09\n",
      "b2 relative error: 1.82e-09\n",
      "b3 relative error: 1.70e-10\n",
      "\n",
      "Running check with dropout =  0.5\n",
      "Initial loss:  2.3042759220785896\n",
      "W1 relative error: 3.11e-07\n",
      "W2 relative error: 1.84e-08\n",
      "W3 relative error: 5.35e-08\n",
      "b1 relative error: 5.37e-09\n",
      "b2 relative error: 2.99e-09\n",
      "b3 relative error: 1.13e-10\n",
      "\n"
     ]
    }
   ],
   "source": [
    "np.random.seed(231)\n",
    "N, D, H1, H2, C = 2, 15, 20, 30, 10\n",
    "X = np.random.randn(N, D)\n",
    "y = np.random.randint(C, size=(N,))\n",
    "\n",
    "for dropout in [1, 0.75, 0.5]:\n",
    "  print('Running check with dropout = ', dropout)\n",
    "  model = FullyConnectedNet([H1, H2], input_dim=D, num_classes=C,\n",
    "                            weight_scale=5e-2, dtype=np.float64,\n",
    "                            dropout=dropout, seed=123)\n",
    "\n",
    "  loss, grads = model.loss(X, y)\n",
    "  print('Initial loss: ', loss)\n",
    "  \n",
    "  # Relative errors should be around e-6 or less; Note that it's fine\n",
    "  # if for dropout=1 you have W2 error be on the order of e-5.\n",
    "  for name in sorted(grads):\n",
    "    f = lambda _: model.loss(X, y)[0]\n",
    "    grad_num = eval_numerical_gradient(f, model.params[name], verbose=False, h=1e-5)\n",
    "    print('%s relative error: %.2e' % (name, rel_error(grad_num, grads[name])))\n",
    "  print()"
   ]
  },
  {
   "cell_type": "markdown",
   "metadata": {
    "id": "8T8-Ta77LNuu"
   },
   "source": [
    "# Regularization experiment\n",
    "As an experiment, we will train a pair of two-layer networks on 500 training examples: one will use no dropout, and one will use a keep probability of 0.25. We will then visualize the training and validation accuracies of the two networks over time."
   ]
  },
  {
   "cell_type": "code",
   "execution_count": 11,
   "metadata": {
    "id": "9R2n2HYILNuv",
    "scrolled": false
   },
   "outputs": [
    {
     "name": "stdout",
     "output_type": "stream",
     "text": [
      "1\n",
      "(Iteration 1 / 50) loss: 6.164760\n",
      "(Epoch 0 / 10) train acc: 0.270000; val_acc: 0.224424\n",
      "(Epoch 1 / 10) train acc: 0.418000; val_acc: 0.265130\n",
      "(Epoch 2 / 10) train acc: 0.482000; val_acc: 0.224816\n",
      "(Epoch 3 / 10) train acc: 0.602000; val_acc: 0.257577\n",
      "(Epoch 4 / 10) train acc: 0.696000; val_acc: 0.243060\n",
      "(Epoch 5 / 10) train acc: 0.742000; val_acc: 0.274252\n",
      "(Epoch 6 / 10) train acc: 0.836000; val_acc: 0.246984\n",
      "(Epoch 7 / 10) train acc: 0.798000; val_acc: 0.239725\n",
      "(Epoch 8 / 10) train acc: 0.854000; val_acc: 0.244924\n",
      "(Epoch 9 / 10) train acc: 0.902000; val_acc: 0.246395\n",
      "(Epoch 10 / 10) train acc: 0.932000; val_acc: 0.259833\n",
      "\n",
      "0.25\n",
      "(Iteration 1 / 50) loss: 10.595271\n",
      "(Epoch 0 / 10) train acc: 0.226000; val_acc: 0.189799\n",
      "(Epoch 1 / 10) train acc: 0.356000; val_acc: 0.204022\n",
      "(Epoch 2 / 10) train acc: 0.452000; val_acc: 0.270721\n",
      "(Epoch 3 / 10) train acc: 0.540000; val_acc: 0.250809\n",
      "(Epoch 4 / 10) train acc: 0.574000; val_acc: 0.244139\n",
      "(Epoch 5 / 10) train acc: 0.652000; val_acc: 0.271506\n",
      "(Epoch 6 / 10) train acc: 0.634000; val_acc: 0.274644\n",
      "(Epoch 7 / 10) train acc: 0.658000; val_acc: 0.277685\n",
      "(Epoch 8 / 10) train acc: 0.694000; val_acc: 0.262187\n",
      "(Epoch 9 / 10) train acc: 0.746000; val_acc: 0.272388\n",
      "(Epoch 10 / 10) train acc: 0.736000; val_acc: 0.284453\n",
      "\n"
     ]
    }
   ],
   "source": [
    "# Train two identical nets, one with dropout and one without\n",
    "np.random.seed(231)\n",
    "num_train = 500\n",
    "small_data = {\n",
    "  'X_train': data['X_train'][:num_train],\n",
    "  'y_train': data['y_train'][:num_train],\n",
    "  'X_val': data['X_val'],\n",
    "  'y_val': data['y_val'],\n",
    "}\n",
    "\n",
    "solvers = {}\n",
    "dropout_choices = [1, 0.25]\n",
    "for dropout in dropout_choices:\n",
    "  model = FullyConnectedNet([500], dropout=dropout, num_classes=6)\n",
    "  print(dropout)\n",
    "\n",
    "  solver = Solver(model, small_data,\n",
    "                  num_epochs=10, batch_size=100,\n",
    "                  update_rule='adam',\n",
    "                  optim_config={\n",
    "                    'learning_rate': 5e-4,\n",
    "                  },\n",
    "                  verbose=True, print_every=100)\n",
    "  solver.train()\n",
    "  solvers[dropout] = solver\n",
    "  print()"
   ]
  },
  {
   "cell_type": "code",
   "execution_count": 8,
   "metadata": {
    "id": "CfPkTtffLNuv"
   },
   "outputs": [
    {
     "data": {
      "image/png": "[encoded data removed]",
      "text/plain": [
       "<Figure size 1500x1500 with 2 Axes>"
      ]
     },
     "metadata": {},
     "output_type": "display_data"
    }
   ],
   "source": [
    "# Plot train and validation accuracies of the two models\n",
    "\n",
    "train_accs = []\n",
    "val_accs = []\n",
    "for dropout in dropout_choices:\n",
    "  solver = solvers[dropout]\n",
    "  train_accs.append(solver.train_acc_history[-1])\n",
    "  val_accs.append(solver.val_acc_history[-1])\n",
    "\n",
    "plt.subplot(3, 1, 1)\n",
    "for dropout in dropout_choices:\n",
    "  plt.plot(solvers[dropout].train_acc_history, 'o', label='%.2f dropout' % dropout)\n",
    "plt.title('Train accuracy')\n",
    "plt.xlabel('Epoch')\n",
    "plt.ylabel('Accuracy')\n",
    "plt.legend(ncol=2, loc='lower right')\n",
    "  \n",
    "plt.subplot(3, 1, 2)\n",
    "for dropout in dropout_choices:\n",
    "  plt.plot(solvers[dropout].val_acc_history, 'o', label='%.2f dropout' % dropout)\n",
    "plt.title('Val accuracy')\n",
    "plt.xlabel('Epoch')\n",
    "plt.ylabel('Accuracy')\n",
    "plt.legend(ncol=2, loc='lower right')\n",
    "\n",
    "plt.gcf().set_size_inches(15, 15)\n",
    "plt.show()"
   ]
  },
  {
   "cell_type": "markdown",
   "metadata": {
    "id": "DNEeM20TLNuw",
    "tags": [
     "pdf-inline"
    ]
   },
   "source": [
    "## Inline Question 2:\n",
    "Compare the validation and training accuracies with and without dropout -- what do your results suggest about dropout as a regularizer?\n",
    "\n",
    "## Answer:\n",
    "1. Reduced Overfitting:\n",
    "\n",
    "- The model without dropout (dropout=1.0) likely shows higher training accuracy but lower validation accuracy, indicating overfitting\n",
    "\n",
    "- The model with dropout (dropout=0.25) should show a smaller gap between training and validation accuracies\n",
    "\n",
    "2. Improved Generalization:\n",
    "\n",
    "- Dropout forces the network to learn more robust features by preventing co-adaptation of neurons\n",
    "\n",
    "- The validation accuracy with dropout should be higher or more stable, even if training accuracy is slightly lower\n",
    "\n",
    "3. Regularization Effect:\n",
    "\n",
    "- The gap between training and validation accuracy serves as an indicator of overfitting\n",
    "\n",
    "- A smaller gap with dropout indicates better generalization and less overfitting\n",
    "\n",
    "4. Trade-off Between Fitting and Generalization:\n",
    "\n",
    "- Without dropout: Model can overfit to training data more easily\n",
    "\n",
    "- With dropout: Model is constrained to learn more generalizable patterns"
   ]
  },
  {
   "cell_type": "markdown",
   "metadata": {
    "id": "ik43da1RLNuw",
    "tags": [
     "pdf-inline"
    ]
   },
   "source": [
    "## Inline Question 3:\n",
    "Suppose we are training a deep fully-connected network for image classification, with dropout after hidden layers (parameterized by keep probability p). If we are concerned about overfitting, how should we modify p (if at all) when we decide to decrease the size of the hidden layers (that is, the number of nodes in each layer)?\n",
    "\n",
    "## Answer:\n",
    "1. Reduced Model Capacity:\n",
    "\n",
    "- Smaller hidden layers mean fewer parameters and reduced model capacity\n",
    "\n",
    "- Lower capacity models are naturally less prone to overfitting\n",
    "\n",
    "- Therefore, less regularization (higher p) is needed\n",
    "\n",
    "2. Information Preservation:\n",
    "\n",
    "- With fewer neurons, each remaining neuron carries more critical information\n",
    "\n",
    "- Aggressive dropout (low p) in smaller networks can remove too much important information\n",
    "\n",
    "- Higher p ensures sufficient information flow through the network\n",
    "\n",
    "3. Balancing Act:\n",
    "\n",
    "- Large networks: Need more aggressive dropout (lower p) to prevent overfitting\n",
    "\n",
    "- Small networks: Need gentler dropout (higher p) to maintain learning capacity"
   ]
  }
 ],
 "metadata": {
  "colab": {
   "collapsed_sections": [],
   "provenance": [],
   "toc_visible": true
  },
  "kernelspec": {
   "display_name": "Python 3",
   "name": "python3"
  },
  "language_info": {
   "codemirror_mode": {
    "name": "ipython",
    "version": 3
   },
   "file_extension": ".py",
   "mimetype": "text/x-python",
   "name": "python",
   "nbconvert_exporter": "python",
   "pygments_lexer": "ipython3",
   "version": "3.8.10"
  }
 },
 "nbformat": 4,
 "nbformat_minor": 0
}
